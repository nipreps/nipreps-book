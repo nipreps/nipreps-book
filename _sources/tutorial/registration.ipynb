{
 "cells": [
  {
   "cell_type": "markdown",
   "id": "5e450d4d",
   "metadata": {},
   "source": [
    "# Image registration (spatial alignment)"
   ]
  },
  {
   "cell_type": "code",
   "execution_count": 1,
   "id": "c438f491",
   "metadata": {
    "tags": [
     "hide-cell"
    ]
   },
   "outputs": [],
   "source": [
    "import warnings\n",
    "\n",
    "warnings.filterwarnings(\"ignore\")"
   ]
  },
  {
   "cell_type": "markdown",
   "id": "b3a902e9",
   "metadata": {},
   "source": [
    "At this point of the tutorial we have covered two of the three initial requirements:\n",
    "\n",
    "* we have a powerful data structure to access our dMRI dataset with agility, and\n",
    "* we have a reliable (thanks to DIPY!) model factory to generate *motion-less* references.\n",
    "\n",
    "Therefore, we are only one step away from our goal - aligning any given DW map with the *motion-less* reference.\n",
    "The estimation of the ***spatial transform*** that brings two maps into alignment is called ***image registration***.\n",
    "\n",
    "**Image registration** is therefore the process through which we bring the structural features of two images into alignment.\n",
    "This means that, brain sulci and gyri, the ventricles, subcortical structures, etc. are located exactly at the same place in the two images.\n",
    "That allows, for instance, for **image fusion**, and hence screening both images together (for example, applying some transparency to the one on top) should not give us the perception that they *are not aligned*.\n",
    "\n",
    "## ANTs - Advanced Normalization ToolS\n",
    "\n",
    "The [ANTs toolbox](http://stnava.github.io/ANTs/) is widely recognized as a powerful image registration (and *normalization*, which is registration to some standard space) framework.\n",
    "\n",
    "The output of an image registration process is the *estimated transform* that brings the information in the two images into alignment.\n",
    "In our case, the head-motion is a rigid-body displacement of the head.\n",
    "Therefore, a very simple (*linear*) model --an affine $4\\times 4$ matrix-- can be used to formalize the *estimated transforms*.\n",
    "\n",
    "Only very recently, [ANTs offers a Python interface](https://doi.org/10.1101/2020.10.19.20215392) to run their tools.\n",
    "For this reason, we will use the very much consolidated [*Nipype* wrapping of the ANTs' command-line interface](https://nipype.readthedocs.io/en/latest/api/generated/nipype.interfaces.ants.html#registration).\n",
    "The code is *almost* as simple as follows:\n",
    "\n",
    "```python\n",
    "from nipype.interfaces.ants import Registration\n",
    "\n",
    "registration_framework = Registration(\n",
    "    fixed_image=\"reference.nii.gz\",\n",
    "    moving_image=\"left-out-gradient.nii.gz\",\n",
    "    from_file=\"settings-file.json\"\n",
    ")\n",
    "```\n",
    "\n",
    "At the minimum, we need to establish our registration framework using the *fixed* (our synthetic, motion-less reference) and the *moving* (the left-out gradient) images.\n",
    "We can *easily* configure registration by creating a `settings-file.json` that may look like the following:\n",
    "\n",
    "```JSON\n",
    "{\n",
    "  \"collapse_output_transforms\": true,\n",
    "  \"convergence_threshold\": [ 1E-5, 1E-6 ],\n",
    "  \"convergence_window_size\": [ 5, 2 ],\n",
    "  \"dimension\": 3,\n",
    "  \"initialize_transforms_per_stage\": false,\n",
    "  \"interpolation\": \"BSpline\",\n",
    "  \"metric\": [ \"Mattes\", \"Mattes\" ],\n",
    "  \"metric_weight\": [ 1.0, 1.0 ],\n",
    "  \"number_of_iterations\": [\n",
    "    [ 100, 50, 0 ],\n",
    "    [ 10 ]\n",
    "  ],\n",
    "  \"radius_or_number_of_bins\": [ 32, 32 ],\n",
    "  \"sampling_percentage\": [ 0.05, 0.1 ],\n",
    "  \"sampling_strategy\": [ \"Regular\", \"Random\" ],\n",
    "  \"shrink_factors\": [\n",
    "    [ 2, 2, 1 ],\n",
    "    [ 1 ]\n",
    "  ],\n",
    "  \"sigma_units\": [ \"vox\", \"vox\" ],\n",
    "  \"smoothing_sigmas\": [\n",
    "    [ 4.0, 2.0, 0.0 ],\n",
    "    [ 0.0 ]\n",
    "  ],\n",
    "  \"transform_parameters\": [\n",
    "    [ 0.01 ],\n",
    "    [ 0.01 ]\n",
    "  ],\n",
    "  \"transforms\": [ \"Rigid\", \"Rigid\" ],\n",
    "  \"use_estimate_learning_rate_once\": [ false, true ],\n",
    "  \"use_histogram_matching\": [ true, true ],\n",
    "  \"verbose\": true,\n",
    "  \"winsorize_lower_quantile\": 0.0001,\n",
    "  \"winsorize_upper_quantile\": 0.9998,\n",
    "  \"write_composite_transform\": false\n",
    "}\n",
    "```\n",
    "\n",
    "Yes, configuring image registration is definitely not *straightforward*.\n",
    "The most relevant piece of settings to highlight is the `\"transforms\"` key, where we can observe we will be using a `\"Rigid\"` transform model.\n",
    "It is beyond the scope of this tutorial to understand ANTs and/or image registration altogether.\n",
    "\n",
    "## Resampling an image\n",
    "\n",
    "Once we have estimated what is the *transform* that brings two images into alignment, we can *bring* the data in the *moving* image and *move this image* into the *reference*'s grid through *resampling*.\n",
    "\n",
    "The process works as follows:\n",
    "\n",
    "![nitransforms](https://raw.githubusercontent.com/poldracklab/nitransforms/master/docs/_static/figure1-joss.png)\n",
    "\n",
    "[*NiTransforms*](https://doi.org/10.1109/ISBI45749.2020.9098466) ([open-access pre-print here](https://doi.org/10.31219/osf.io/8aq7b)) is an ongoing project to bring a compatibility layer into *NiBabel* between the many transform file formats generated by neuroimaging packages.\n",
    "We will be using *NiTransforms* to *apply* these transforms we estimate with ANTs -- effectively *resampling* moving images into their reference's grid.\n",
    "\n",
    "To read a transform produced by ANTs with *NiTransforms*, we use the following piece of code:\n",
    "\n",
    "```python\n",
    "import nitransforms as nt\n",
    "\n",
    "xform = nt.io.itk.ITKLinearTransform.from_filename(\"ants-generated-rigid-xform.mat\")\n",
    "```\n",
    "\n",
    "Resampling an image requires two pieces of information: the *reference* image (which provides the new grid where we want to have the data) and the *moving* image which contains the actual data we are interested in:\n",
    "\n",
    "```python\n",
    "xform.reference = \"reference-image.nii.gz\"\n",
    "resampled = xform.apply(\"moving-image.nii.gz\")\n",
    "```"
   ]
  }
 ],
 "metadata": {
  "jupytext": {
   "formats": "md:myst",
   "text_representation": {
    "extension": ".md",
    "format_name": "myst"
   }
  },
  "kernelspec": {
   "display_name": "Python 3",
   "language": "python",
   "name": "python3"
  },
  "language_info": {
   "codemirror_mode": {
    "name": "ipython",
    "version": 3
   },
   "file_extension": ".py",
   "mimetype": "text/x-python",
   "name": "python",
   "nbconvert_exporter": "python",
   "pygments_lexer": "ipython3",
   "version": "3.7.10"
  },
  "source_map": [
   11,
   15,
   21
  ]
 },
 "nbformat": 4,
 "nbformat_minor": 5
}