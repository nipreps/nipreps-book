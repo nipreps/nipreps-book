{
 "cells": [
  {
   "cell_type": "markdown",
   "id": "67e77701",
   "metadata": {},
   "source": [
    "# The problem of head-motion in dMRI"
   ]
  },
  {
   "cell_type": "code",
   "execution_count": 1,
   "id": "1fd4ec9f",
   "metadata": {
    "tags": [
     "remove-cell"
    ]
   },
   "outputs": [],
   "source": [
    "import warnings\n",
    "\n",
    "warnings.filterwarnings(\"ignore\")\n",
    "\n",
    "from IPython.display import HTML"
   ]
  },
  {
   "cell_type": "markdown",
   "id": "629efa8a",
   "metadata": {},
   "source": [
    "A recurring problem for any MRI acquisition is that image reconstruction and modeling are extremely sensitive to very small changes in the position of the imaged object.\n",
    "Rigid-body, bulk-motion of the head will degrade every image, even if the experimenters closely followed all the standard operation procedures and carefully prepared the experiment (e.g., setting correctly the head paddings), and even if the participant was experienced with the MR settings and strictly followed indications to avoid any movement outside time windows allocated for rest.\n",
    "This effect is exacerbated by the length of the acquisition (longer acquisitions will have more motion), and is not limited to humans.\n",
    "For instance, although rats are typically acquired with head fixations and under sedation, their breathing (especially when assisted) generally causes motion.\n",
    "Even the vibration of the scanner itself can introduce motion!"
   ]
  },
  {
   "cell_type": "code",
   "execution_count": 2,
   "id": "8ffcf6af",
   "metadata": {
    "tags": [
     "remove-input"
    ]
   },
   "outputs": [
    {
     "data": {
      "text/html": [
       "<video width=\"640\" height=\"680\" loop=\"yes\" muted=\"yes\" autoplay=\"yes\" controls=\"yes\"><source src=\"../videos/hm-sagittal.mp4\" type=\"video/mp4\"/></video>"
      ],
      "text/plain": [
       "<IPython.core.display.HTML object>"
      ]
     },
     "execution_count": 2,
     "metadata": {},
     "output_type": "execute_result"
    }
   ],
   "source": [
    "HTML(\"\"\"<video width=\"640\" height=\"680\" loop=\"yes\" muted=\"yes\" autoplay=\"yes\" controls=\"yes\"><source src=\"../videos/hm-sagittal.mp4\" type=\"video/mp4\"/></video>\"\"\")"
   ]
  },
  {
   "cell_type": "markdown",
   "id": "4b8a3d05",
   "metadata": {},
   "source": [
    "## Dimensions of the head-motion problem\n",
    "\n",
    "These sudden and unavoidable motion of the head (for instance, when the participant swallowed) result in two degrading consequences that confuse the diffusion model through which we will attempt to understand the data:\n",
    "\n",
    "- **Misalignment** between the different angular samplings (between-volume), which means that the same *(i, j, k)* voxel in one orientation will not contain a diffusion measurement of exactly the same anatomical location of the rest of the orientations (see [these slides by Dr. A. Yendiki in 2013](http://ftp.nmr.mgh.harvard.edu/pub/docs/TraculaNov2013/tracula.workshop.iv.pdf)).\n",
    "- **Attenuation** in the recorded intensity of a particular orientation (within-volume), especially present when the sudden motion occurred during the diffusion-encoding gradient pulse.\n",
    "\n",
    "While we can address the between-volume motion using head motion correction, the within-volume motion is often identified as a signal outlier and omitted from further analysis.\n",
    "\n",
    "## Objective: Implement a head-motion estimation code\n",
    "\n",
    "This tutorial focuses on the misalignment problem.\n",
    "We will build from existing software (DIPY for diffusion modeling and ANTs for image registration), as well as commonplace Python libraries (NumPy), a software framework for head-motion estimation in diffusion MRI data.\n",
    "\n",
    "The algorithmic and theoretical foundations of the method are based on an idea first proposed by [Ben-Amitay et al.](https://pubmed.ncbi.nlm.nih.gov/22183784/) and later implemented in *QSIPREP* (see this [OHBM 2019 poster](https://github.com/mattcieslak/ohbm_shoreline/blob/master/cieslakOHBM2019.pdf)).\n",
    "The idea works as follows:\n",
    "\n",
    "```{admonition} Algorithm\n",
    "  1. Leave one DWI (diffusion weighted image) orientation out.\n",
    "  2. Using the rest of the dataset, impute the excluded orientation using a diffusion model.\n",
    "     Because it was generated based on the remainder of the data, the simulated volume will be\n",
    "     free of head-motion and eddy-current spatial distortions.\n",
    "  3. Run a volumetric registration algorithm between the imputed volume and the original volume.\n",
    "  4. Iterate over the whole dataset until convergence.\n",
    "```\n",
    "\n",
    "### Step 1: Identify an I/O (inputs/outputs) specification\n",
    "Briefly anticipate what are the inputs to your new algorithm and the expected outcomes.\n",
    "\n",
    "```{admonition} Inputs\n",
    "- A *b=0* reference - this is a 3D file resulting from a varyingly sophisticated average across the *b=0* volumes in the dataset.\n",
    "- Orientation matrix in \"RAS+b\" format. This means that b-vectors are given in \"scanner\" coordinates (as opposed to \"voxel\" coordinates) and must have unit-norm. An additional column provides the sensitization intensity value (*b* value) in *s/mm<sup>2</sup>*.\n",
    "- *high-b* DWI data (4D file) - in other words, the original DWI dataset after extracting the *b=0* volumes out.\n",
    "- DWI prediction model specification (model name + parameters)\n",
    "- Image registration framework specification (including parameters)\n",
    "```\n",
    "\n",
    "```{admonition} Outputs\n",
    "- List of affine matrices estimated by algorithm, which collapse the distortion from both sources.\n",
    "- List of rigid-body transformation matrices decomposed from the latter, representing the estimated head-motion parameters.\n",
    "- List of the residuals of the previous decomposition, representing the affine distortions attributed to eddy-currents.\n",
    "- A new DWI file (4D) resampling the data via the estimated affine matrices.\n",
    "- New orientation matrix in \"RAS+b\" format, after rotation by the rigid-body motions estimated.\n",
    "```\n",
    "\n",
    "```{warning}\n",
    "**What this idea doesn't cover:**\n",
    "\n",
    "- Conversion into RAS+b format of the gradient matrix.\n",
    "- Calculation of Framewise-Displacement or any other data quality estimation.\n",
    "- Outlier removal or correcting intensity dropout\n",
    "```\n",
    "\n",
    "```{admonition} Nonfunctional requirements\n",
    "Briefly anticipate further requirements that are important, but do not alter the goal of the project.\n",
    "\n",
    "- Memory fingerprint: DWIs can be large, and storing them in memory (and subsequent derivatives thereof) can be cumbersome, or even prohibitive.\n",
    "- Parallelism: simulation and registration are CPU-intensive processes - for the runtime to be in a manageable scale, we'll need to leverage parallelism.\n",
    "```\n",
    "\n",
    "### Step 2: Sketch out an API (Application Programming Interface)\n",
    "Plan how the new software will expose the implementation downstream.\n",
    "Assuming our DWI data is encapsulated in an object (holding not just the data array, but also metadata such as the gradient table)\n",
    "pointed at by the variable `data`, and assuming we have a list of rigid-body transform matrices to initialize the algorithm (`mats`),\n",
    "a potential API would have a `.fit()` and `.predict()` members which run the algorithm (the former) and generate an EM-corrected\n",
    "DWI (the latter):\n",
    "\n",
    "```python\n",
    "from eddymotion import EddyMotionEstimator\n",
    "\n",
    "estimator = EddyMotionEstimator()\n",
    "estimator.fit(data, model=\"DTI\")\n",
    "\n",
    "corrected = estimator.predict(data)\n",
    "```\n",
    "\n",
    "### Step 3: Software architecture\n",
    "\n",
    "Once the problem is well defined, we will leverage object orientation programming to implement the solution.\n",
    "In our case, we have four major components that will allow us to meet the requirements above:\n",
    "\n",
    "* A ***powerful but resource-lightweight DWI data representation***.\n",
    "* A uniform interface to interchangeable models of the left out gradient.\n",
    "* A reliable registration framework to estimate the misalignment.\n",
    "* The integration of the three elements above in an iterable loop."
   ]
  }
 ],
 "metadata": {
  "jupytext": {
   "formats": "md:myst",
   "text_representation": {
    "extension": ".md",
    "format_name": "myst"
   }
  },
  "kernelspec": {
   "display_name": "Python 3",
   "language": "python",
   "name": "python3"
  },
  "language_info": {
   "codemirror_mode": {
    "name": "ipython",
    "version": 3
   },
   "file_extension": ".py",
   "mimetype": "text/x-python",
   "name": "python",
   "nbconvert_exporter": "python",
   "pygments_lexer": "ipython3",
   "version": "3.7.10"
  },
  "source_map": [
   11,
   15,
   23,
   31,
   35
  ]
 },
 "nbformat": 4,
 "nbformat_minor": 5
}