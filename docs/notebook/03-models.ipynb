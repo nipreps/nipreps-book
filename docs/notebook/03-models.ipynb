{
 "cells": [
  {
   "cell_type": "markdown",
   "id": "05eb8910",
   "metadata": {},
   "source": [
    "# Diffusion modeling"
   ]
  },
  {
   "cell_type": "code",
   "execution_count": null,
   "id": "8097be84",
   "metadata": {
    "tags": [
     "remove-cell"
    ]
   },
   "outputs": [],
   "source": [
    "import warnings\n",
    "import numpy as np\n",
    "\n",
    "warnings.filterwarnings(\"ignore\")"
   ]
  },
  {
   "cell_type": "markdown",
   "id": "1b4d76f9",
   "metadata": {},
   "source": [
    "The proposed method requires inferring a motion-less, reference DW map for a given diffusion orientation for which we want to estimate the misalignment.\n",
    "Inference of the reference map is achieved by first fitting some diffusion model (which we will draw from [DIPY](https://dipy.org)) using all data, except the particular DW map that is to be aligned.\n",
    "We will be using the `nifreeze.data.splitting.lovo_split` utility (LOVO = leave one volume out), that basically leverages the indexing feature of our data structure to partition the dataset into test and train.\n",
    "\n",
    "All models are required to offer the same API (application programmer interface):\n",
    "\n",
    "1. The initialization takes a DIPY `GradientTable` as the first argument, and then arbitrary parameters as keyword arguments.\n",
    "2. A `fit(data)` method, which only requires a positional argument `data`, a 4D array with DWI data.\n",
    "3. A `predict(gradient_table)` method, which only requires a `GradientTable` as input.\n",
    "   This method produces a prediction of the signal for every voxel in every direction represented in the input `gradient_table`.\n",
    "\n",
    "```{attention}\n",
    "By default, the code running in each Jupyter notebook is its own process.\n",
    "We must reload the dataset again to use it in this notebook.\n",
    "```"
   ]
  },
  {
   "cell_type": "code",
   "execution_count": null,
   "id": "88fa2d4f",
   "metadata": {},
   "outputs": [],
   "source": [
    "from nifreeze.data.dmri import DWI\n",
    "from nifreeze.data.splitting import lovo_split\n",
    "from nireports.reportlets.modality.dwi import plot_dwi\n",
    "\n",
    "dmri_dataset = DWI.from_filename(\"../../data/dwi.h5\")"
   ]
  },
  {
   "cell_type": "markdown",
   "id": "c2af3bd2",
   "metadata": {},
   "source": [
    "## Implementing a trivial model\n",
    "\n",
    "We will first start implementing a *trivial* model.\n",
    "This model will always return the reference *b=0* map, regardless of the particular diffusion orientation model.\n",
    "In other words, it is just a ***constant*** model.\n",
    "\n",
    "Its simplicity does not diminish its great usefulness.\n",
    "First, when coding it is very important to build up iteratively in complexity.\n",
    "This model will allow to easily test the overall integration of the different components of our head-motion estimation algorithm.\n",
    "Also, this model will allow a very straightforward implementation of registration to the *b=0* reference, which is commonly used to initialize the head-motion estimation parameters."
   ]
  },
  {
   "cell_type": "code",
   "execution_count": null,
   "id": "4aebb55b",
   "metadata": {},
   "outputs": [],
   "source": [
    "class TrivialB0Model:\n",
    "    \"\"\"\n",
    "    A trivial model that returns a *b=0* map always.\n",
    "\n",
    "    Implements the interface of :obj:`dipy.reconst.base.ReconstModel`.\n",
    "    Instead of inheriting from the abstract base, this implementation\n",
    "    follows type adaptation principles, as it is easier to maintain\n",
    "    and to read (see https://www.youtube.com/watch?v=3MNVP9-hglc).\n",
    "\n",
    "    \"\"\"\n",
    "\n",
    "    __slots__ = (\"_S0\",)\n",
    "\n",
    "    def __init__(self, gtab, S0=None, **kwargs):\n",
    "        \"\"\"Implement object initialization.\"\"\"\n",
    "        if S0 is None:\n",
    "            raise ValueError(\"S0 must be provided\")\n",
    "\n",
    "        self._S0 = S0\n",
    "\n",
    "    def fit(self, *args, **kwargs):\n",
    "        \"\"\"Do nothing.\"\"\"\n",
    "\n",
    "    def predict(self, gradient, **kwargs):\n",
    "        \"\"\"Return the *b=0* map.\"\"\"\n",
    "        return self._S0"
   ]
  },
  {
   "cell_type": "markdown",
   "id": "ae7555c2",
   "metadata": {},
   "source": [
    "The model can easily be initialized as follows (assuming we still have our dataset loaded):"
   ]
  },
  {
   "cell_type": "code",
   "execution_count": null,
   "id": "0fea7606",
   "metadata": {},
   "outputs": [],
   "source": [
    "model = TrivialB0Model(\n",
    "    dmri_dataset.gradients,\n",
    "    S0=dmri_dataset.bzero,\n",
    ")"
   ]
  },
  {
   "cell_type": "markdown",
   "id": "19b85cd7",
   "metadata": {},
   "source": [
    "Then, at each iteration of our estimation strategy, we will fit this model to the data, after holding one particular direction (`data_test`) out, using the `lovo_split` utility.\n",
    "In every iteration, this finds the b=0 volumes in the data and averages their values in every voxel:"
   ]
  },
  {
   "cell_type": "code",
   "execution_count": null,
   "id": "d090f258",
   "metadata": {},
   "outputs": [],
   "source": [
    "data_train, data_test = lovo_split(dmri_dataset, 10)\n",
    "model.fit(np.squeeze(data_train[0]))"
   ]
  },
  {
   "cell_type": "markdown",
   "id": "bb92729a",
   "metadata": {},
   "source": [
    "Finally, we can generate our registration reference with the `predict()` method:"
   ]
  },
  {
   "cell_type": "code",
   "execution_count": null,
   "id": "3f0a21e4",
   "metadata": {},
   "outputs": [],
   "source": [
    "predict_b = np.squeeze(data_test[2])\n",
    "predicted = model.predict(predict_b)\n",
    "plot_dwi(predicted, dmri_dataset.affine, gradient=predict_b);"
   ]
  },
  {
   "cell_type": "markdown",
   "id": "a9f28e9e",
   "metadata": {},
   "source": [
    "As expected, the *b=0* doesn't look very much like the particular left-out direction, but it is a start!"
   ]
  },
  {
   "cell_type": "code",
   "execution_count": null,
   "id": "14951d8c",
   "metadata": {},
   "outputs": [],
   "source": [
    "plot_dwi(np.squeeze(data_test[0]), dmri_dataset.affine, gradient=predict_b);"
   ]
  },
  {
   "cell_type": "markdown",
   "id": "4197a582",
   "metadata": {},
   "source": [
    "## Implementing a *regression to the mean* model\n",
    "\n",
    "```{admonition} Exercise\n",
    "Extend the `TrivialB0Model` to produce an average of *all other* diffusion directions, instead of the *b=0*.\n",
    "```"
   ]
  },
  {
   "cell_type": "code",
   "execution_count": null,
   "id": "2faf5ed1",
   "metadata": {},
   "outputs": [],
   "source": [
    "class AverageDWModel:\n",
    "    \"\"\"A trivial model that returns an average map.\"\"\"\n",
    "\n",
    "    __slots__ = (\"_data\",)\n",
    "\n",
    "    def __init__(self, gtab, **kwargs):\n",
    "        \"\"\"Implement object initialization.\"\"\"\n",
    "        return  # do nothing at initialization time\n",
    "\n",
    "    def fit(self, data, **kwargs):\n",
    "        \"\"\"Calculate the average.\"\"\"\n",
    "        # self._data =  # Use numpy to calculate the average.\n",
    "\n",
    "    def predict(self, gradient, **kwargs):\n",
    "        \"\"\"Return the average map.\"\"\"\n",
    "        return self._data"
   ]
  },
  {
   "cell_type": "markdown",
   "id": "5bc12666",
   "metadata": {},
   "source": [
    "**Solution**"
   ]
  },
  {
   "cell_type": "code",
   "execution_count": null,
   "id": "8f8f9e6b",
   "metadata": {
    "tags": [
     "hide-cell"
    ]
   },
   "outputs": [],
   "source": [
    "class AverageDWModel:\n",
    "    \"\"\"A trivial model that returns an average map.\"\"\"\n",
    "\n",
    "    __slots__ = (\"_data\",)\n",
    "\n",
    "    def __init__(self, gtab, **kwargs):\n",
    "        \"\"\"Implement object initialization.\"\"\"\n",
    "        return  # do nothing at initialization time\n",
    "\n",
    "    def fit(self, data, **kwargs):\n",
    "        \"\"\"Calculate the average.\"\"\"\n",
    "        self._data =  data.mean(-1)\n",
    "\n",
    "    def predict(self, gradient, **kwargs):\n",
    "        \"\"\"Return the average map.\"\"\"\n",
    "        return self._data"
   ]
  },
  {
   "cell_type": "markdown",
   "id": "5b1e7fe0",
   "metadata": {},
   "source": [
    "```{admonition} Exercise\n",
    " Use the new `AverageDWModel` you just created.\n",
    "```\n",
    "\n",
    "**Solution**"
   ]
  },
  {
   "cell_type": "code",
   "execution_count": null,
   "id": "672da994",
   "metadata": {
    "tags": [
     "hide-cell"
    ]
   },
   "outputs": [],
   "source": [
    "model = AverageDWModel(\n",
    "    dmri_dataset.gradients,\n",
    ")\n",
    "model.fit(data_train[0])\n",
    "predicted = model.predict(data_test[1])\n",
    "plot_dwi(predicted, dmri_dataset.affine, gradient=predict_b);\n",
    "plot_dwi(np.squeeze(data_test[0]), dmri_dataset.affine, gradient=predict_b);"
   ]
  },
  {
   "cell_type": "markdown",
   "id": "dd33e740",
   "metadata": {},
   "source": [
    "## Investigating the tensor model\n",
    "\n",
    "Now, we are ready to use the diffusion tensor model.\n",
    "We will use the wrap around DIPY's implementation that we distribute with `nifreeze`."
   ]
  },
  {
   "cell_type": "code",
   "execution_count": null,
   "id": "f4d4eacc",
   "metadata": {
    "tags": [
     "remove-cell"
    ]
   },
   "outputs": [],
   "source": [
    "from tempfile import mkstemp\n",
    "from pathlib import Path\n",
    "import requests\n",
    "\n",
    "if dmri_dataset._filepath.exists():\n",
    "    dmri_dataset._filepath.unlink()\n",
    "url = \"https://files.osf.io/v1/resources/8k95s/providers/osfstorage/68e5464a451cf9cf1fc51a53\"\n",
    "datapath = Path(mkstemp(suffix=\".h5\")[1])\n",
    "if datapath.stat().st_size == 0:\n",
    "    datapath.write_bytes(\n",
    "        requests.get(url, allow_redirects=True).content\n",
    "    )\n",
    "\n",
    "dmri_dataset = DWI.from_filename(datapath)\n",
    "datapath.unlink()\n",
    "\n",
    "# Let's generate index 88 of the dataset:\n",
    "test_data, _, test_b = dmri_dataset[88]\n",
    "\n",
    "test_data = np.squeeze(test_data)\n",
    "test_b = np.squeeze(test_b)"
   ]
  },
  {
   "cell_type": "markdown",
   "id": "5551295d",
   "metadata": {},
   "source": [
    "### The model factory\n",
    "\n",
    "To permit flexibility in selecting models, the `nifreeze` package offers a `ModelFactory` that implements the *facade design pattern*.\n",
    "This means that `ModelFactory` makes it easier for the user to switch between models:"
   ]
  },
  {
   "cell_type": "code",
   "execution_count": null,
   "id": "d6aea89d",
   "metadata": {},
   "outputs": [],
   "source": [
    "from nifreeze.model import ModelFactory\n",
    "\n",
    "model = ModelFactory.init(\n",
    "    dataset=dmri_dataset,\n",
    "    model=\"DTI\",\n",
    ")"
   ]
  },
  {
   "cell_type": "markdown",
   "id": "1bff9a76",
   "metadata": {},
   "source": [
    "### Leveraging the `fit()` / `predict()` API\n",
    "\n",
    "The `ModelFactory` returns a model object that is compliant with the interface sketched above:"
   ]
  },
  {
   "cell_type": "code",
   "execution_count": null,
   "id": "ff9fc91f",
   "metadata": {},
   "outputs": [],
   "source": [
    "predicted = model.fit_predict(88, n_jobs=16)"
   ]
  },
  {
   "cell_type": "markdown",
   "id": "d66aa7d9",
   "metadata": {},
   "source": [
    "Now, the predicted map for the particular ***b*** gradient looks much closer to the original:"
   ]
  },
  {
   "cell_type": "code",
   "execution_count": null,
   "id": "a869ca71",
   "metadata": {},
   "outputs": [],
   "source": [
    "plot_dwi(predicted, dmri_dataset.affine, gradient=test_b, black_bg=True);"
   ]
  },
  {
   "cell_type": "markdown",
   "id": "09e278ca",
   "metadata": {},
   "source": [
    "Here's the original DW map, for reference:"
   ]
  },
  {
   "cell_type": "code",
   "execution_count": null,
   "id": "0d97a053",
   "metadata": {},
   "outputs": [],
   "source": [
    "plot_dwi(test_data, dmri_dataset.affine, gradient=test_b);"
   ]
  },
  {
   "cell_type": "markdown",
   "id": "0e9ce740",
   "metadata": {},
   "source": [
    "```{admonition} Exercise\n",
    "Use the `ModelFactory` to initialize a `\"DKI\"` (diffusion Kurtosis imaging) model.\n",
    "```\n",
    "\n",
    "**Solution**"
   ]
  },
  {
   "cell_type": "code",
   "execution_count": null,
   "id": "c86b68b5",
   "metadata": {
    "tags": [
     "hide-cell"
    ]
   },
   "outputs": [],
   "source": [
    "model = ModelFactory.init(\n",
    "    dataset=dmri_dataset,\n",
    "    model=\"DKI\",\n",
    ")"
   ]
  },
  {
   "cell_type": "markdown",
   "id": "7caf6b6c",
   "metadata": {},
   "source": [
    "Once the model has been initialized, we can easily generate a new prediction."
   ]
  },
  {
   "cell_type": "code",
   "execution_count": null,
   "id": "853dd49d",
   "metadata": {},
   "outputs": [],
   "source": [
    "predicted = model.fit_predict(88, n_jobs=16)\n",
    "plot_dwi(predicted, dmri_dataset.affine, gradient=test_b, black_bg=True);\n",
    "plot_dwi(test_data, dmri_dataset.affine, gradient=test_b);"
   ]
  },
  {
   "cell_type": "markdown",
   "id": "2e45d218",
   "metadata": {},
   "source": [
    "## Next steps: image registration\n",
    "\n",
    "Once we have our model factory readily available, it will be easy to generate predictions that we can use for reference in image registration."
   ]
  }
 ],
 "metadata": {
  "jupytext": {
   "default_lexer": "python"
  },
  "kernelspec": {
   "display_name": "Python 3 (ipykernel)",
   "language": "python",
   "name": "python3"
  },
  "language_info": {
   "codemirror_mode": {
    "name": "ipython",
    "version": 3
   },
   "file_extension": ".py",
   "mimetype": "text/x-python",
   "name": "python",
   "nbconvert_exporter": "python",
   "pygments_lexer": "ipython3",
   "version": "3.11.13"
  }
 },
 "nbformat": 4,
 "nbformat_minor": 5
}
