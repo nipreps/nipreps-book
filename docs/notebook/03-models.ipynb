{
 "cells": [
  {
   "cell_type": "markdown",
   "id": "73bc033f",
   "metadata": {},
   "source": [
    "# Diffusion modeling"
   ]
  },
  {
   "cell_type": "code",
   "execution_count": null,
   "id": "86034e8b",
   "metadata": {
    "tags": [
     "hide-cell"
    ]
   },
   "outputs": [],
   "source": [
    "import warnings\n",
    "import numpy as np\n",
    "\n",
    "warnings.filterwarnings(\"ignore\")"
   ]
  },
  {
   "cell_type": "markdown",
   "id": "16e127b6",
   "metadata": {},
   "source": [
    "The proposed method requires inferring a motion-less, reference DW map for a given diffusion orientation for which we want to estimate the misalignment.\n",
    "Inference of the reference map is achieved by first fitting some diffusion model (which we will draw from [DIPY](https://dipy.org)) using all data, except the particular DW map that is to be aligned.\n",
    "This data splitting scheme was introduced in {doc}`the LOGO splitter section in Introduction to dMRI data <data>`.\n",
    "\n",
    "All models are required to offer the same API (application programmer interface):\n",
    "\n",
    "1. The initialization takes a DIPY `GradientTable` as the first argument, and then arbitrary parameters as keyword arguments.\n",
    "2. A `fit(data)` method, which only requires a positional argument `data`, a 4D array with DWI data.\n",
    "3. A `predict(gradient_table)` method, which only requires a `GradientTable` as input.\n",
    "   This method produces a prediction of the signal for every voxel in every direction represented in the input `gradient_table`.\n",
    "\n",
    "**Attention**\n",
    "\n",
    "By default, the code running in each Jupyter notebook is its own process.\n",
    "We must reload the dataset again to use it in this notebook."
   ]
  },
  {
   "cell_type": "code",
   "execution_count": null,
   "id": "3225815e",
   "metadata": {},
   "outputs": [],
   "source": [
    "from eddymotion.data.dmri import DWI\n",
    "from eddymotion.data.splitting import lovo_split as logo_split\n",
    "from eddymotion.viz import plot_dwi\n",
    "dmri_dataset = DWI.from_filename(\"../../data/dwi.h5\")"
   ]
  },
  {
   "cell_type": "markdown",
   "id": "1a677d9e",
   "metadata": {},
   "source": [
    "## Implementing a trivial model\n",
    "\n",
    "We will first start implementing a *trivial* model.\n",
    "This model will always return the reference *b=0* map, regardless of the particular diffusion orientation model.\n",
    "In other words, it is just a ***constant*** model.\n",
    "\n",
    "Its simplicity does not diminish its great usefulness.\n",
    "First, when coding it is very important to build up iteratively in complexity.\n",
    "This model will allow to easily test the overall integration of the different components of our head-motion estimation algorithm.\n",
    "Also, this model will allow a very straightforward implementation of registration to the *b=0* reference, which is commonly used to initialize the head-motion estimation parameters."
   ]
  },
  {
   "cell_type": "code",
   "execution_count": null,
   "id": "2875c19b",
   "metadata": {},
   "outputs": [],
   "source": [
    "class TrivialB0Model:\n",
    "    \"\"\"\n",
    "    A trivial model that returns a *b=0* map always.\n",
    "\n",
    "    Implements the interface of :obj:`dipy.reconst.base.ReconstModel`.\n",
    "    Instead of inheriting from the abstract base, this implementation\n",
    "    follows type adaptation principles, as it is easier to maintain\n",
    "    and to read (see https://www.youtube.com/watch?v=3MNVP9-hglc).\n",
    "\n",
    "    \"\"\"\n",
    "\n",
    "    __slots__ = (\"_S0\",)\n",
    "\n",
    "    def __init__(self, gtab, S0=None, **kwargs):\n",
    "        \"\"\"Implement object initialization.\"\"\"\n",
    "        if S0 is None:\n",
    "            raise ValueError(\"S0 must be provided\")\n",
    "\n",
    "        self._S0 = S0\n",
    "\n",
    "    def fit(self, *args, **kwargs):\n",
    "        \"\"\"Do nothing.\"\"\"\n",
    "\n",
    "    def predict(self, gradient, **kwargs):\n",
    "        \"\"\"Return the *b=0* map.\"\"\"\n",
    "        return self._S0"
   ]
  },
  {
   "cell_type": "markdown",
   "id": "4ddb8436",
   "metadata": {},
   "source": [
    "The model can easily be initialized as follows (assuming we still have our dataset loaded):"
   ]
  },
  {
   "cell_type": "code",
   "execution_count": null,
   "id": "19da1464",
   "metadata": {},
   "outputs": [],
   "source": [
    "model = TrivialB0Model(\n",
    "    dmri_dataset.gradients,\n",
    "    S0=dmri_dataset.bzero,\n",
    ")"
   ]
  },
  {
   "cell_type": "markdown",
   "id": "52034adb",
   "metadata": {},
   "source": [
    "Then, at each iteration of our estimation strategy, we will fit this model to the data, after holding one particular direction (`data_test`) out, using the `logo_split` method of the dataset. In every iteration, this finds the b=0 volumes in the data and averages their values in every voxel:"
   ]
  },
  {
   "cell_type": "code",
   "execution_count": null,
   "id": "6a65d321",
   "metadata": {},
   "outputs": [],
   "source": [
    "data_train, data_test = logo_split(dmri_dataset, 10)\n",
    "model.fit(data_train[0])"
   ]
  },
  {
   "cell_type": "markdown",
   "id": "dc3f7299",
   "metadata": {},
   "source": [
    "Finally, we can generate our registration reference with the `predict()` method:"
   ]
  },
  {
   "cell_type": "code",
   "execution_count": null,
   "id": "5229302c",
   "metadata": {},
   "outputs": [],
   "source": [
    "predicted = model.predict(data_test[1])\n",
    "plot_dwi(predicted, dmri_dataset.affine, gradient=data_test[1]);"
   ]
  },
  {
   "cell_type": "markdown",
   "id": "dce0260f",
   "metadata": {},
   "source": [
    "As expected, the *b=0* doesn't look very much like the particular left-out direction, but it is a start!"
   ]
  },
  {
   "cell_type": "code",
   "execution_count": null,
   "id": "9b6dd61a",
   "metadata": {},
   "outputs": [],
   "source": [
    "plot_dwi(np.squeeze(data_test[0]), dmri_dataset.affine, gradient=data_test[1]);"
   ]
  },
  {
   "cell_type": "markdown",
   "id": "231a0729",
   "metadata": {},
   "source": [
    "## Implementing a *regression to the mean* model\n",
    "\n",
    "**Exercise**\n",
    "\n",
    "Extend the `TrivialB0Model` to produce an average of *all other* diffusion directions, instead of the *b=0*.\n",
    "\n",
    "**Solution**"
   ]
  },
  {
   "cell_type": "code",
   "execution_count": null,
   "id": "95130912",
   "metadata": {},
   "outputs": [],
   "source": [
    "class AverageDWModel:\n",
    "    \"\"\"A trivial model that returns an average map.\"\"\"\n",
    "\n",
    "    __slots__ = (\"_data\",)\n",
    "\n",
    "    def __init__(self, gtab, **kwargs):\n",
    "        \"\"\"Implement object initialization.\"\"\"\n",
    "        return  # do nothing at initialization time\n",
    "\n",
    "    def fit(self, data, **kwargs):\n",
    "        \"\"\"Calculate the average.\"\"\"\n",
    "        # self._data =  # Use numpy to calculate the average.\n",
    "\n",
    "    def predict(self, gradient, **kwargs):\n",
    "        \"\"\"Return the average map.\"\"\"\n",
    "        return self._data"
   ]
  },
  {
   "cell_type": "markdown",
   "id": "893ae6de",
   "metadata": {},
   "source": [
    "**Exercise**\n",
    "\n",
    "Use the new `AverageDWModel` you just created.\n",
    "\n",
    "**Solution**"
   ]
  },
  {
   "cell_type": "code",
   "execution_count": null,
   "id": "77c74c0e",
   "metadata": {
    "tags": [
     "hide-cell"
    ]
   },
   "outputs": [],
   "source": []
  },
  {
   "cell_type": "markdown",
   "id": "63a5bc6b",
   "metadata": {},
   "source": [
    "## Investigating the tensor model\n",
    "\n",
    "Now, we are ready to use the diffusion tensor model.\n",
    "We will use the wrap around DIPY's implementation that we distribute with `eddymotion`."
   ]
  },
  {
   "cell_type": "code",
   "execution_count": null,
   "id": "8dda846f",
   "metadata": {
    "tags": [
     "remove-cell"
    ]
   },
   "outputs": [],
   "source": [
    "from tempfile import mkstemp\n",
    "from pathlib import Path\n",
    "import requests\n",
    "\n",
    "if dmri_dataset._filepath.exists():\n",
    "    dmri_dataset._filepath.unlink()\n",
    "url = \"https://files.osf.io/v1/resources/8k95s/providers/osfstorage/6070b4c2f6585f03fb6123a2\"\n",
    "datapath = Path(mkstemp(suffix=\".h5\")[1])\n",
    "if datapath.stat().st_size == 0:\n",
    "    datapath.write_bytes(\n",
    "        requests.get(url, allow_redirects=True).content\n",
    "    )\n",
    "\n",
    "dmri_dataset = DWI.from_filename(datapath)\n",
    "datapath.unlink()\n",
    "data_train, data_test = logo_split(dmri_dataset, 88, with_b0=True)"
   ]
  },
  {
   "cell_type": "markdown",
   "id": "f9b5a9b0",
   "metadata": {},
   "source": [
    "### The model factory\n",
    "\n",
    "To permit flexibility in selecting models, the `eddymotion` package offers a `ModelFactory` that implements the *facade design pattern*.\n",
    "This means that `ModelFactory` makes it easier for the user to switch between models:"
   ]
  },
  {
   "cell_type": "code",
   "execution_count": null,
   "id": "3a957d5e",
   "metadata": {},
   "outputs": [],
   "source": [
    "from eddymotion.model import ModelFactory\n",
    "\n",
    "# We are using now a full dataset, we need to split the data again\n",
    "\n",
    "model = ModelFactory.init(\n",
    "    gtab=data_train[1],\n",
    "    model=\"DTI\",\n",
    "    S0=dmri_dataset.bzero,\n",
    ")"
   ]
  },
  {
   "cell_type": "markdown",
   "id": "3157aa22",
   "metadata": {},
   "source": [
    "### Leveraging the `fit()` / `predict()` API\n",
    "\n",
    "The `ModelFactory` returns a model object that is compliant with the interface sketched above:"
   ]
  },
  {
   "cell_type": "code",
   "execution_count": null,
   "id": "615b8a23",
   "metadata": {},
   "outputs": [],
   "source": [
    "model.fit(data_train[0])\n",
    "predicted = model.predict(data_test[1])"
   ]
  },
  {
   "cell_type": "markdown",
   "id": "1428316d",
   "metadata": {},
   "source": [
    "Now, the predicted map for the particular ***b*** gradient looks much closer to the original:"
   ]
  },
  {
   "cell_type": "code",
   "execution_count": null,
   "id": "2d1c921a",
   "metadata": {},
   "outputs": [],
   "source": [
    "plot_dwi(predicted, dmri_dataset.affine, gradient=data_test[1], black_bg=True);"
   ]
  },
  {
   "cell_type": "markdown",
   "id": "17ac6e64",
   "metadata": {},
   "source": [
    "Here's the original DW map, for reference:"
   ]
  },
  {
   "cell_type": "code",
   "execution_count": null,
   "id": "41078b66",
   "metadata": {},
   "outputs": [],
   "source": [
    "plot_dwi(np.squeeze(data_test[0]), dmri_dataset.affine, gradient=data_test[1]);"
   ]
  },
  {
   "cell_type": "markdown",
   "id": "d1603ab8",
   "metadata": {},
   "source": [
    "**Exercise**\n",
    "Use the `ModelFactory` to initialize a `\"DKI\"` (diffusion Kurtosis imaging) model.\n",
    "\n",
    "**Solution**"
   ]
  },
  {
   "cell_type": "code",
   "execution_count": null,
   "id": "25b9ff4d",
   "metadata": {
    "tags": [
     "hide-cell"
    ]
   },
   "outputs": [],
   "source": []
  },
  {
   "cell_type": "markdown",
   "id": "40c6b7ec",
   "metadata": {},
   "source": [
    "**Exercise**\n",
    "\n",
    "Once the model has been initialized, we can easily generate a new prediction.\n",
    "\n",
    "**Solution**"
   ]
  },
  {
   "cell_type": "code",
   "execution_count": null,
   "id": "267008fe",
   "metadata": {},
   "outputs": [],
   "source": []
  },
  {
   "cell_type": "markdown",
   "id": "9b947d74",
   "metadata": {},
   "source": [
    "## Next steps: image registration\n",
    "\n",
    "Once we have our model factory readily available, it will be easy to generate predictions that we can use for reference in image registration."
   ]
  }
 ],
 "metadata": {
  "kernelspec": {
   "display_name": "Python 3 (ipykernel)",
   "language": "python",
   "name": "python3"
  },
  "language_info": {
   "codemirror_mode": {
    "name": "ipython",
    "version": 3
   },
   "file_extension": ".py",
   "mimetype": "text/x-python",
   "name": "python",
   "nbconvert_exporter": "python",
   "pygments_lexer": "ipython3",
   "version": "3.11.9"
  }
 },
 "nbformat": 4,
 "nbformat_minor": 5
}
