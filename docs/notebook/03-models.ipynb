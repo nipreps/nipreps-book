{
 "cells": [
  {
   "cell_type": "markdown",
   "id": "c09bcbd8",
   "metadata": {},
   "source": [
    "# Diffusion modeling"
   ]
  },
  {
   "cell_type": "code",
   "execution_count": null,
   "id": "19692011",
   "metadata": {
    "tags": [
     "remove-cell"
    ]
   },
   "outputs": [],
   "source": [
    "import sys\n",
    "import warnings\n",
    "from pathlib import Path\n",
    "\n",
    "import numpy as np\n",
    "\n",
    "warnings.filterwarnings(\"ignore\")\n",
    "\n",
    "repo_root = next(\n",
    "    (\n",
    "        directory\n",
    "        for directory in (Path.cwd().resolve(), *Path.cwd().resolve().parents)\n",
    "        if (directory / \"pixi.toml\").exists() or (directory / \".git\").exists()\n",
    "    ),\n",
    "    Path.cwd().resolve(),\n",
    ")\n",
    "if str(repo_root) not in sys.path:\n",
    "    sys.path.insert(0, str(repo_root))\n",
    "\n",
    "from tutorial_data import load_tutorial_dmri_dataset\n",
    "\n",
    "DATA_PATH = load_tutorial_dmri_dataset()"
   ]
  },
  {
   "cell_type": "code",
   "execution_count": null,
   "id": "471cbe11",
   "metadata": {},
   "outputs": [],
   "source": [
    "DATA_PATH"
   ]
  },
  {
   "cell_type": "markdown",
   "id": "eca704ca",
   "metadata": {},
   "source": [
    "The proposed method requires inferring a motion-less, reference DW map for a given diffusion orientation for which we want to estimate the misalignment.\n",
    "Inference of the reference map is achieved by first fitting some diffusion model (which we will draw from [DIPY](https://dipy.org)) using all data, except the particular DW map that is to be aligned.\n",
    "We will be using the `nifreeze.data.splitting.lovo_split` utility (LOVO = leave one volume out), that basically leverages the indexing feature of our data structure to partition the dataset into test and train.\n",
    "\n",
    "All models are required to offer the same API (application programmer interface):\n",
    "\n",
    "1. The initialization takes a DIPY `GradientTable` as the first argument, and then arbitrary parameters as keyword arguments.\n",
    "2. A `fit(data)` method, which only requires a positional argument `data`, a 4D array with DWI data.\n",
    "3. A `predict(gradient_table)` method, which only requires a `GradientTable` as input.\n",
    "   This method produces a prediction of the signal for every voxel in every direction represented in the input `gradient_table`.\n",
    "\n",
    "```{attention}\n",
    "By default, the code running in each Jupyter notebook is its own process.\n",
    "We must reload the dataset again to use it in this notebook.\n",
    "```"
   ]
  },
  {
   "cell_type": "code",
   "execution_count": null,
   "id": "9176c043",
   "metadata": {},
   "outputs": [],
   "source": [
    "from nifreeze.data.dmri import DWI\n",
    "from nifreeze.data.splitting import lovo_split\n",
    "from nireports.reportlets.modality.dwi import plot_dwi\n",
    "\n",
    "dmri_dataset = DWI.from_filename(DATA_PATH)"
   ]
  },
  {
   "cell_type": "markdown",
   "id": "684ca598",
   "metadata": {},
   "source": [
    "## Implementing a trivial model\n",
    "\n",
    "We will first start implementing a *trivial* model.\n",
    "This model will always return the reference *b=0* map, regardless of the particular diffusion orientation model.\n",
    "In other words, it is just a ***constant*** model.\n",
    "\n",
    "Its simplicity does not diminish its great usefulness.\n",
    "First, when coding it is very important to build up iteratively in complexity.\n",
    "This model will allow to easily test the overall integration of the different components of our head-motion estimation algorithm.\n",
    "Also, this model will allow a very straightforward implementation of registration to the *b=0* reference, which is commonly used to initialize the head-motion estimation parameters."
   ]
  },
  {
   "cell_type": "code",
   "execution_count": null,
   "id": "aa97cd07",
   "metadata": {},
   "outputs": [],
   "source": [
    "class TrivialB0Model:\n",
    "    \"\"\"\n",
    "    A trivial model that returns a *b=0* map always.\n",
    "\n",
    "    Implements the interface of :obj:`dipy.reconst.base.ReconstModel`.\n",
    "    Instead of inheriting from the abstract base, this implementation\n",
    "    follows type adaptation principles, as it is easier to maintain\n",
    "    and to read (see https://www.youtube.com/watch?v=3MNVP9-hglc).\n",
    "\n",
    "    \"\"\"\n",
    "\n",
    "    __slots__ = (\"_S0\",)\n",
    "\n",
    "    def __init__(self, gtab, S0=None, **kwargs):\n",
    "        \"\"\"Implement object initialization.\"\"\"\n",
    "        if S0 is None:\n",
    "            raise ValueError(\"S0 must be provided\")\n",
    "\n",
    "        self._S0 = S0\n",
    "\n",
    "    def fit(self, *args, **kwargs):\n",
    "        \"\"\"Do nothing.\"\"\"\n",
    "\n",
    "    def predict(self, gradient, **kwargs):\n",
    "        \"\"\"Return the *b=0* map.\"\"\"\n",
    "        return self._S0"
   ]
  },
  {
   "cell_type": "markdown",
   "id": "df720ec8",
   "metadata": {},
   "source": [
    "The model can easily be initialized as follows (assuming we still have our dataset loaded):"
   ]
  },
  {
   "cell_type": "code",
   "execution_count": null,
   "id": "162484a1",
   "metadata": {},
   "outputs": [],
   "source": [
    "model = TrivialB0Model(\n",
    "    dmri_dataset.gradients,\n",
    "    S0=dmri_dataset.bzero,\n",
    ")"
   ]
  },
  {
   "cell_type": "markdown",
   "id": "22f68a83",
   "metadata": {},
   "source": [
    "Then, at each iteration of our estimation strategy, we will fit this model to the data, after holding one particular direction (`data_test`) out, using the `lovo_split` utility.\n",
    "In every iteration, this finds the b=0 volumes in the data and averages their values in every voxel:"
   ]
  },
  {
   "cell_type": "code",
   "execution_count": null,
   "id": "7734c73a",
   "metadata": {},
   "outputs": [],
   "source": [
    "data_train, data_test = lovo_split(dmri_dataset, 5)\n",
    "model.fit(np.squeeze(data_train[0]))"
   ]
  },
  {
   "cell_type": "markdown",
   "id": "e716bdba",
   "metadata": {},
   "source": [
    "Finally, we can generate our registration reference with the `predict()` method:"
   ]
  },
  {
   "cell_type": "code",
   "execution_count": null,
   "id": "df272c7c",
   "metadata": {},
   "outputs": [],
   "source": [
    "predict_b = np.squeeze(data_test[2])\n",
    "predicted = model.predict(predict_b)\n",
    "plot_dwi(predicted, dmri_dataset.affine, gradient=predict_b);"
   ]
  },
  {
   "cell_type": "markdown",
   "id": "c2e3d5cc",
   "metadata": {},
   "source": [
    "As expected, the *b=0* doesn't look very much like the particular left-out direction, but it is a start!"
   ]
  },
  {
   "cell_type": "code",
   "execution_count": null,
   "id": "07d26c91",
   "metadata": {},
   "outputs": [],
   "source": [
    "plot_dwi(np.squeeze(data_test[0]), dmri_dataset.affine, gradient=predict_b);"
   ]
  },
  {
   "cell_type": "markdown",
   "id": "d99439c0",
   "metadata": {},
   "source": [
    "## Implementing a *regression to the mean* model\n",
    "\n",
    "```{admonition} Exercise\n",
    "Extend the `TrivialB0Model` to produce an average of *all other* diffusion directions, instead of the *b=0*.\n",
    "```"
   ]
  },
  {
   "cell_type": "code",
   "execution_count": null,
   "id": "d108de31",
   "metadata": {},
   "outputs": [],
   "source": [
    "class AverageDWModel:\n",
    "    \"\"\"A trivial model that returns an average map.\"\"\"\n",
    "\n",
    "    __slots__ = (\"_data\",)\n",
    "\n",
    "    def __init__(self, gtab, **kwargs):\n",
    "        \"\"\"Implement object initialization.\"\"\"\n",
    "        return  # do nothing at initialization time\n",
    "\n",
    "    def fit(self, data, **kwargs):\n",
    "        \"\"\"Calculate the average.\"\"\"\n",
    "        # self._data =  # Use numpy to calculate the average.\n",
    "\n",
    "    def predict(self, gradient, **kwargs):\n",
    "        \"\"\"Return the average map.\"\"\"\n",
    "        return self._data"
   ]
  },
  {
   "cell_type": "markdown",
   "id": "f5997fab",
   "metadata": {},
   "source": [
    "**Solution**"
   ]
  },
  {
   "cell_type": "code",
   "execution_count": null,
   "id": "6e90afa2",
   "metadata": {
    "tags": [
     "hide-cell"
    ]
   },
   "outputs": [],
   "source": [
    "class AverageDWModel:\n",
    "    \"\"\"A trivial model that returns an average map.\"\"\"\n",
    "\n",
    "    __slots__ = (\"_data\",)\n",
    "\n",
    "    def __init__(self, gtab, **kwargs):\n",
    "        \"\"\"Implement object initialization.\"\"\"\n",
    "        return  # do nothing at initialization time\n",
    "\n",
    "    def fit(self, data, **kwargs):\n",
    "        \"\"\"Calculate the average.\"\"\"\n",
    "        self._data =  data.mean(-1)\n",
    "\n",
    "    def predict(self, gradient, **kwargs):\n",
    "        \"\"\"Return the average map.\"\"\"\n",
    "        return self._data"
   ]
  },
  {
   "cell_type": "markdown",
   "id": "9a6f282b",
   "metadata": {},
   "source": [
    "```{admonition} Exercise\n",
    " Use the new `AverageDWModel` you just created.\n",
    "```\n",
    "\n",
    "**Solution**"
   ]
  },
  {
   "cell_type": "code",
   "execution_count": null,
   "id": "0aec3caa",
   "metadata": {
    "tags": [
     "hide-cell"
    ]
   },
   "outputs": [],
   "source": [
    "model = AverageDWModel(\n",
    "    dmri_dataset.gradients,\n",
    ")\n",
    "model.fit(data_train[0])\n",
    "predicted = model.predict(data_test[1])\n",
    "plot_dwi(predicted, dmri_dataset.affine, gradient=predict_b);\n",
    "plot_dwi(np.squeeze(data_test[0]), dmri_dataset.affine, gradient=predict_b);"
   ]
  },
  {
   "cell_type": "markdown",
   "id": "b0ec59cd",
   "metadata": {},
   "source": [
    "## Investigating the tensor model\n",
    "\n",
    "Now, we are ready to use the diffusion tensor model.\n",
    "We will use the wrap around DIPY's implementation that we distribute with `nifreeze`."
   ]
  },
  {
   "cell_type": "code",
   "execution_count": null,
   "id": "4bc61177",
   "metadata": {
    "tags": [
     "remove-cell"
    ]
   },
   "outputs": [],
   "source": [
    "# Let's generate index 88 of the dataset:\n",
    "test_data, _, test_b = dmri_dataset[88]\n",
    "\n",
    "test_data = np.squeeze(test_data)\n",
    "test_b = np.squeeze(test_b)"
   ]
  },
  {
   "cell_type": "markdown",
   "id": "ba0a44fb",
   "metadata": {},
   "source": [
    "### The model factory\n",
    "\n",
    "To permit flexibility in selecting models, the `nifreeze` package offers a `ModelFactory` that implements the *facade design pattern*.\n",
    "This means that `ModelFactory` makes it easier for the user to switch between models:"
   ]
  },
  {
   "cell_type": "code",
   "execution_count": null,
   "id": "b0d04d3f",
   "metadata": {},
   "outputs": [],
   "source": [
    "from nifreeze.model import ModelFactory\n",
    "\n",
    "model = ModelFactory.init(\n",
    "    dataset=dmri_dataset,\n",
    "    model=\"DTI\",\n",
    ")"
   ]
  },
  {
   "cell_type": "markdown",
   "id": "41309ab8",
   "metadata": {},
   "source": [
    "### Leveraging the `fit()` / `predict()` API\n",
    "\n",
    "The `ModelFactory` returns a model object that is compliant with the interface sketched above:"
   ]
  },
  {
   "cell_type": "code",
   "execution_count": null,
   "id": "aad8e620",
   "metadata": {},
   "outputs": [],
   "source": [
    "predicted = model.fit_predict(88, n_jobs=16)"
   ]
  },
  {
   "cell_type": "markdown",
   "id": "7f0eddd0",
   "metadata": {},
   "source": [
    "Now, the predicted map for the particular ***b*** gradient looks much closer to the original:"
   ]
  },
  {
   "cell_type": "code",
   "execution_count": null,
   "id": "6b3cc94e",
   "metadata": {},
   "outputs": [],
   "source": [
    "plot_dwi(predicted, dmri_dataset.affine, gradient=test_b, black_bg=True);"
   ]
  },
  {
   "cell_type": "markdown",
   "id": "ec542556",
   "metadata": {},
   "source": [
    "Here's the original DW map, for reference:"
   ]
  },
  {
   "cell_type": "code",
   "execution_count": null,
   "id": "64113bc4",
   "metadata": {},
   "outputs": [],
   "source": [
    "plot_dwi(test_data, dmri_dataset.affine, gradient=test_b);"
   ]
  },
  {
   "cell_type": "markdown",
   "id": "31aff6e6",
   "metadata": {},
   "source": [
    "```{admonition} Exercise\n",
    "Use the `ModelFactory` to initialize a `\"DKI\"` (diffusion Kurtosis imaging) model.\n",
    "```\n",
    "\n",
    "**Solution**"
   ]
  },
  {
   "cell_type": "code",
   "execution_count": null,
   "id": "479b42fc",
   "metadata": {
    "tags": [
     "hide-cell"
    ]
   },
   "outputs": [],
   "source": [
    "model = ModelFactory.init(\n",
    "    dataset=dmri_dataset,\n",
    "    model=\"DKI\",\n",
    ")"
   ]
  },
  {
   "cell_type": "markdown",
   "id": "96a61f3a",
   "metadata": {},
   "source": [
    "Once the model has been initialized, we can easily generate a new prediction."
   ]
  },
  {
   "cell_type": "code",
   "execution_count": null,
   "id": "ddeaff85",
   "metadata": {},
   "outputs": [],
   "source": [
    "predicted = model.fit_predict(88, n_jobs=16)\n",
    "plot_dwi(predicted, dmri_dataset.affine, gradient=test_b, black_bg=True);\n",
    "plot_dwi(test_data, dmri_dataset.affine, gradient=test_b);"
   ]
  },
  {
   "cell_type": "markdown",
   "id": "d775ff5f",
   "metadata": {},
   "source": [
    "## Next steps: image registration\n",
    "\n",
    "Once we have our model factory readily available, it will be easy to generate predictions that we can use for reference in image registration."
   ]
  }
 ],
 "metadata": {
  "jupytext": {
   "default_lexer": "ipython3"
  },
  "kernelspec": {
   "display_name": "Python 3 (ipykernel)",
   "language": "python",
   "name": "python3"
  }
 },
 "nbformat": 4,
 "nbformat_minor": 5
}
