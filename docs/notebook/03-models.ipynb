{
 "cells": [
  {
   "cell_type": "markdown",
   "id": "eb39e8a7",
   "metadata": {},
   "source": [
    "# Diffusion modeling"
   ]
  },
  {
   "cell_type": "code",
   "execution_count": null,
   "id": "f44b9267",
   "metadata": {
    "tags": [
     "remove-cell"
    ]
   },
   "outputs": [],
   "source": [
    "import warnings\n",
    "import numpy as np\n",
    "\n",
    "warnings.filterwarnings(\"ignore\")"
   ]
  },
  {
   "cell_type": "markdown",
   "id": "6316d660",
   "metadata": {},
   "source": [
    "The proposed method requires inferring a motion-less, reference DW map for a given diffusion orientation for which we want to estimate the misalignment.\n",
    "Inference of the reference map is achieved by first fitting some diffusion model (which we will draw from [DIPY](https://dipy.org)) using all data, except the particular DW map that is to be aligned.\n",
    "This data splitting scheme was introduced in {doc}`the LOGO splitter section in Introduction to dMRI data <data>`.\n",
    "\n",
    "All models are required to offer the same API (application programmer interface):\n",
    "\n",
    "1. The initialization takes a DIPY `GradientTable` as the first argument, and then arbitrary parameters as keyword arguments.\n",
    "2. A `fit(data)` method, which only requires a positional argument `data`, a 4D array with DWI data.\n",
    "3. A `predict(gradient_table)` method, which only requires a `GradientTable` as input.\n",
    "   This method produces a prediction of the signal for every voxel in every direction represented in the input `gradient_table`.\n",
    "\n",
    "```{attention}\n",
    "By default, the code running in each Jupyter notebook is its own process.\n",
    "We must reload the dataset again to use it in this notebook.\n",
    "```"
   ]
  },
  {
   "cell_type": "code",
   "execution_count": null,
   "id": "4919d288",
   "metadata": {},
   "outputs": [],
   "source": [
    "from nifreeze.data.dmri import DWI\n",
    "from nifreeze.data.splitting import lovo_split as logo_split\n",
    "from nireports.reportlets.modality.dmri import plot_dwi\n",
    "\n",
    "dmri_dataset = DWI.from_filename(\"../../data/dwi.h5\")"
   ]
  },
  {
   "cell_type": "markdown",
   "id": "617109ce",
   "metadata": {},
   "source": [
    "## Implementing a trivial model\n",
    "\n",
    "We will first start implementing a *trivial* model.\n",
    "This model will always return the reference *b=0* map, regardless of the particular diffusion orientation model.\n",
    "In other words, it is just a ***constant*** model.\n",
    "\n",
    "Its simplicity does not diminish its great usefulness.\n",
    "First, when coding it is very important to build up iteratively in complexity.\n",
    "This model will allow to easily test the overall integration of the different components of our head-motion estimation algorithm.\n",
    "Also, this model will allow a very straightforward implementation of registration to the *b=0* reference, which is commonly used to initialize the head-motion estimation parameters."
   ]
  },
  {
   "cell_type": "code",
   "execution_count": null,
   "id": "ab1defac",
   "metadata": {},
   "outputs": [],
   "source": [
    "class TrivialB0Model:\n",
    "    \"\"\"\n",
    "    A trivial model that returns a *b=0* map always.\n",
    "\n",
    "    Implements the interface of :obj:`dipy.reconst.base.ReconstModel`.\n",
    "    Instead of inheriting from the abstract base, this implementation\n",
    "    follows type adaptation principles, as it is easier to maintain\n",
    "    and to read (see https://www.youtube.com/watch?v=3MNVP9-hglc).\n",
    "\n",
    "    \"\"\"\n",
    "\n",
    "    __slots__ = (\"_S0\",)\n",
    "\n",
    "    def __init__(self, gtab, S0=None, **kwargs):\n",
    "        \"\"\"Implement object initialization.\"\"\"\n",
    "        if S0 is None:\n",
    "            raise ValueError(\"S0 must be provided\")\n",
    "\n",
    "        self._S0 = S0\n",
    "\n",
    "    def fit(self, *args, **kwargs):\n",
    "        \"\"\"Do nothing.\"\"\"\n",
    "\n",
    "    def predict(self, gradient, **kwargs):\n",
    "        \"\"\"Return the *b=0* map.\"\"\"\n",
    "        return self._S0"
   ]
  },
  {
   "cell_type": "markdown",
   "id": "bbdd2945",
   "metadata": {},
   "source": [
    "The model can easily be initialized as follows (assuming we still have our dataset loaded):"
   ]
  },
  {
   "cell_type": "code",
   "execution_count": null,
   "id": "09cecf51",
   "metadata": {},
   "outputs": [],
   "source": [
    "model = TrivialB0Model(\n",
    "    dmri_dataset.gradients,\n",
    "    S0=dmri_dataset.bzero,\n",
    ")"
   ]
  },
  {
   "cell_type": "markdown",
   "id": "37a85c23",
   "metadata": {},
   "source": [
    "Then, at each iteration of our estimation strategy, we will fit this model to the data, after holding one particular direction (`data_test`) out, using the `logo_split` method of the dataset. In every iteration, this finds the b=0 volumes in the data and averages their values in every voxel:"
   ]
  },
  {
   "cell_type": "code",
   "execution_count": null,
   "id": "a1118fac",
   "metadata": {},
   "outputs": [],
   "source": [
    "data_train, data_test = logo_split(dmri_dataset, 10)\n",
    "model.fit(np.squeeze(data_train[0]))"
   ]
  },
  {
   "cell_type": "markdown",
   "id": "bd2ae011",
   "metadata": {},
   "source": [
    "Finally, we can generate our registration reference with the `predict()` method:"
   ]
  },
  {
   "cell_type": "code",
   "execution_count": null,
   "id": "b7ca4f52",
   "metadata": {},
   "outputs": [],
   "source": [
    "predicted = model.predict(data_test[1])\n",
    "plot_dwi(predicted, dmri_dataset.affine, gradient=data_test[1]);"
   ]
  },
  {
   "cell_type": "markdown",
   "id": "936fd886",
   "metadata": {},
   "source": [
    "As expected, the *b=0* doesn't look very much like the particular left-out direction, but it is a start!"
   ]
  },
  {
   "cell_type": "code",
   "execution_count": null,
   "id": "4b9d5a94",
   "metadata": {},
   "outputs": [],
   "source": [
    "plot_dwi(np.squeeze(data_test[0]), dmri_dataset.affine, gradient=data_test[1]);"
   ]
  },
  {
   "cell_type": "markdown",
   "id": "2cdbd40b",
   "metadata": {},
   "source": [
    "## Implementing a *regression to the mean* model\n",
    "\n",
    "```{admonition} Exercise\n",
    "Extend the `TrivialB0Model` to produce an average of *all other* diffusion directions, instead of the *b=0*.\n",
    "```"
   ]
  },
  {
   "cell_type": "code",
   "execution_count": null,
   "id": "2b190cb6",
   "metadata": {},
   "outputs": [],
   "source": [
    "class AverageDWModel:\n",
    "    \"\"\"A trivial model that returns an average map.\"\"\"\n",
    "\n",
    "    __slots__ = (\"_data\",)\n",
    "\n",
    "    def __init__(self, gtab, **kwargs):\n",
    "        \"\"\"Implement object initialization.\"\"\"\n",
    "        return  # do nothing at initialization time\n",
    "\n",
    "    def fit(self, data, **kwargs):\n",
    "        \"\"\"Calculate the average.\"\"\"\n",
    "        # self._data =  # Use numpy to calculate the average.\n",
    "\n",
    "    def predict(self, gradient, **kwargs):\n",
    "        \"\"\"Return the average map.\"\"\"\n",
    "        return self._data"
   ]
  },
  {
   "cell_type": "markdown",
   "id": "3a5756d7",
   "metadata": {},
   "source": [
    "**Solution**"
   ]
  },
  {
   "cell_type": "code",
   "execution_count": null,
   "id": "92cd07bc",
   "metadata": {
    "tags": [
     "hide-cell"
    ]
   },
   "outputs": [],
   "source": [
    "class AverageDWModel:\n",
    "    \"\"\"A trivial model that returns an average map.\"\"\"\n",
    "\n",
    "    __slots__ = (\"_data\",)\n",
    "\n",
    "    def __init__(self, gtab, **kwargs):\n",
    "        \"\"\"Implement object initialization.\"\"\"\n",
    "        return  # do nothing at initialization time\n",
    "\n",
    "    def fit(self, data, **kwargs):\n",
    "        \"\"\"Calculate the average.\"\"\"\n",
    "        self._data =  data.mean(-1)\n",
    "\n",
    "    def predict(self, gradient, **kwargs):\n",
    "        \"\"\"Return the average map.\"\"\"\n",
    "        return self._data"
   ]
  },
  {
   "cell_type": "markdown",
   "id": "b6f36344",
   "metadata": {},
   "source": [
    "```{admonition} Exercise\n",
    " Use the new `AverageDWModel` you just created.\n",
    "```\n",
    "\n",
    "**Solution**"
   ]
  },
  {
   "cell_type": "code",
   "execution_count": null,
   "id": "9419e683",
   "metadata": {
    "tags": [
     "hide-cell"
    ]
   },
   "outputs": [],
   "source": [
    "model = AverageDWModel(\n",
    "    dmri_dataset.gradients,\n",
    ")\n",
    "model.fit(data_train[0])\n",
    "predicted = model.predict(data_test[1])\n",
    "plot_dwi(predicted, dmri_dataset.affine, gradient=data_test[1]);\n",
    "plot_dwi(np.squeeze(data_test[0]), dmri_dataset.affine, gradient=data_test[1]);"
   ]
  },
  {
   "cell_type": "markdown",
   "id": "c13c524d",
   "metadata": {},
   "source": [
    "## Investigating the tensor model\n",
    "\n",
    "Now, we are ready to use the diffusion tensor model.\n",
    "We will use the wrap around DIPY's implementation that we distribute with `nifreeze`."
   ]
  },
  {
   "cell_type": "code",
   "execution_count": null,
   "id": "cfea6af5",
   "metadata": {
    "tags": [
     "remove-cell"
    ]
   },
   "outputs": [],
   "source": [
    "from tempfile import mkstemp\n",
    "from pathlib import Path\n",
    "import requests\n",
    "\n",
    "if dmri_dataset._filepath.exists():\n",
    "    dmri_dataset._filepath.unlink()\n",
    "url = \"https://files.osf.io/v1/resources/8k95s/providers/osfstorage/6070b4c2f6585f03fb6123a2\"\n",
    "datapath = Path(mkstemp(suffix=\".h5\")[1])\n",
    "if datapath.stat().st_size == 0:\n",
    "    datapath.write_bytes(\n",
    "        requests.get(url, allow_redirects=True).content\n",
    "    )\n",
    "\n",
    "dmri_dataset = DWI.from_filename(datapath)\n",
    "datapath.unlink()\n",
    "data_train, data_test = logo_split(dmri_dataset, 88, with_b0=True)"
   ]
  },
  {
   "cell_type": "markdown",
   "id": "c59ff2fc",
   "metadata": {},
   "source": [
    "### The model factory\n",
    "\n",
    "To permit flexibility in selecting models, the `nifreeze` package offers a `ModelFactory` that implements the *facade design pattern*.\n",
    "This means that `ModelFactory` makes it easier for the user to switch between models:"
   ]
  },
  {
   "cell_type": "code",
   "execution_count": null,
   "id": "01693f16",
   "metadata": {},
   "outputs": [],
   "source": [
    "from nifreeze.model import ModelFactory\n",
    "\n",
    "# We are using now a full dataset, we need to split the data again\n",
    "\n",
    "model = ModelFactory.init(\n",
    "    gtab=data_train[1],\n",
    "    model=\"DTI\",\n",
    "    S0=dmri_dataset.bzero,\n",
    ")"
   ]
  },
  {
   "cell_type": "markdown",
   "id": "d175cb91",
   "metadata": {},
   "source": [
    "### Leveraging the `fit()` / `predict()` API\n",
    "\n",
    "The `ModelFactory` returns a model object that is compliant with the interface sketched above:"
   ]
  },
  {
   "cell_type": "code",
   "execution_count": null,
   "id": "c291c142",
   "metadata": {},
   "outputs": [],
   "source": [
    "model.fit(data_train[0])\n",
    "predicted = model.predict(data_test[1])"
   ]
  },
  {
   "cell_type": "markdown",
   "id": "aaeb2b7e",
   "metadata": {},
   "source": [
    "Now, the predicted map for the particular ***b*** gradient looks much closer to the original:"
   ]
  },
  {
   "cell_type": "code",
   "execution_count": null,
   "id": "3f618128",
   "metadata": {},
   "outputs": [],
   "source": [
    "plot_dwi(predicted, dmri_dataset.affine, gradient=data_test[1], black_bg=True);"
   ]
  },
  {
   "cell_type": "markdown",
   "id": "63850ee2",
   "metadata": {},
   "source": [
    "Here's the original DW map, for reference:"
   ]
  },
  {
   "cell_type": "code",
   "execution_count": null,
   "id": "6a3490c9",
   "metadata": {},
   "outputs": [],
   "source": [
    "plot_dwi(np.squeeze(data_test[0]), dmri_dataset.affine, gradient=data_test[1]);"
   ]
  },
  {
   "cell_type": "markdown",
   "id": "c1df62cf",
   "metadata": {},
   "source": [
    "```{admonition} Exercise\n",
    "Use the `ModelFactory` to initialize a `\"DKI\"` (diffusion Kurtosis imaging) model.\n",
    "```\n",
    "\n",
    "**Solution**"
   ]
  },
  {
   "cell_type": "code",
   "execution_count": null,
   "id": "d808ef7f",
   "metadata": {
    "tags": [
     "hide-cell"
    ]
   },
   "outputs": [],
   "source": [
    "model = ModelFactory.init(\n",
    "    gtab=data_train[1],\n",
    "    model=\"DKI\",\n",
    "    S0=dmri_dataset.bzero,\n",
    ")"
   ]
  },
  {
   "cell_type": "markdown",
   "id": "4204f16b",
   "metadata": {},
   "source": [
    "Once the model has been initialized, we can easily generate a new prediction."
   ]
  },
  {
   "cell_type": "code",
   "execution_count": null,
   "id": "a22c8a09",
   "metadata": {},
   "outputs": [],
   "source": [
    "model.fit(data_train[0])\n",
    "predicted = model.predict(data_test[1])\n",
    "plot_dwi(predicted, dmri_dataset.affine, gradient=data_test[1], black_bg=True);\n",
    "plot_dwi(np.squeeze(data_test[0]), dmri_dataset.affine, gradient=data_test[1]);"
   ]
  },
  {
   "cell_type": "markdown",
   "id": "c00d4dba",
   "metadata": {},
   "source": [
    "## Next steps: image registration\n",
    "\n",
    "Once we have our model factory readily available, it will be easy to generate predictions that we can use for reference in image registration."
   ]
  }
 ],
 "metadata": {
  "jupytext": {
   "default_lexer": "python"
  },
  "kernelspec": {
   "display_name": "Python 3",
   "language": "python",
   "name": "python3"
  }
 },
 "nbformat": 4,
 "nbformat_minor": 5
}
