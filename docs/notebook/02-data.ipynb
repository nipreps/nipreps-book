{
 "cells": [
  {
   "cell_type": "markdown",
   "id": "27909aa8",
   "metadata": {},
   "source": [
    "# Introduction to dMRI data"
   ]
  },
  {
   "cell_type": "code",
   "execution_count": null,
   "id": "4fe93af9",
   "metadata": {
    "tags": [
     "remove-cell"
    ]
   },
   "outputs": [],
   "source": [
    "import warnings\n",
    "\n",
    "warnings.filterwarnings(\"ignore\")\n",
    "\n",
    "from IPython.display import HTML"
   ]
  },
  {
   "cell_type": "markdown",
   "id": "9b4f1411",
   "metadata": {},
   "source": [
    "Diffusion imaging probes the random, microscopic movement of water molecules by using MRI sequences that are sensitive to the geometry and environmental organization surrounding these protons.\n",
    "This is a popular technique for studying the white matter of the brain.\n",
    "The diffusion within biological structures, such as the brain, are often restricted due to barriers (e.g., cell membranes), resulting in a preferred direction of diffusion (anisotropy).\n",
    "A typical dMRI scan will acquire multiple volumes (or ***angular samples***), each sensitive to a particular ***diffusion direction***."
   ]
  },
  {
   "cell_type": "code",
   "execution_count": null,
   "id": "50d8f982",
   "metadata": {
    "tags": [
     "remove-input"
    ]
   },
   "outputs": [],
   "source": [
    "HTML(\"\"\"<video loop=\"yes\" muted=\"yes\" autoplay=\"yes\" controls=\"yes\"><source src=\"../videos/dMRI-signal-movie.mp4\" type=\"video/mp4\"/></video>\"\"\")"
   ]
  },
  {
   "cell_type": "markdown",
   "id": "de9273c6",
   "metadata": {},
   "source": [
    "*Sourced from Dr. A. Rokem, DIPY Workshop 2021*\n",
    "\n",
    "These *diffusion directions* (or ***orientations***) are a fundamental piece of metadata to interpret dMRI data, as models need to know the exact orientation of each angular sample.\n",
    "\n",
    "```{admonition} Main elements of a dMRI dataset\n",
    "- A 4D data array, where the last dimension encodes the reconstructed **diffusion direction *maps***.\n",
    "- Tabular data or a 2D array, listing the **diffusion directions** (`.bvec`) and the encoding **gradient strength** (`.bval`).\n",
    "```\n",
    "\n",
    "In summary, dMRI involves ***complex data types*** that, as programmers, we want to access, query and manipulate with ease.\n",
    "\n",
    "## Python and object oriented programming\n",
    "\n",
    "Python is an [object oriented programming](https://en.wikipedia.org/wiki/Object-oriented_programming) language.\n",
    "It allows us to represent and encapsulate data types and corresponding behaviors into programming structures called *objects*.\n",
    "\n",
    "```{admonition} Data structures\n",
    "How you feed in data into your algorithm will impose constraints that might completely hinder the implementation of nonfunctional requirements down the line.\n",
    "Therefore, a careful plan must also be thought out for the data structures we are going to handle.\n",
    "```\n",
    "\n",
    "Therefore, let's leverage Python to create *objects* that contain dMRI data.\n",
    "In Python, *objects* can be specified by defining a class.\n",
    "In the example code below, we've created a class with the name `DWI`.\n",
    "To simplify class creation, we've also used the magic of a Python library called [`attrs`](https://www.attrs.org/en/stable/)."
   ]
  },
  {
   "cell_type": "code",
   "execution_count": null,
   "id": "6c11a93a",
   "metadata": {},
   "outputs": [],
   "source": [
    "\"\"\"Representing data in hard-disk and memory.\"\"\"\n",
    "import attr\n",
    "\n",
    "def _data_repr(value):\n",
    "    if value is None:\n",
    "        return \"None\"\n",
    "    return f\"<{'x'.join(str(v) for v in value.shape)} ({value.dtype})>\"\n",
    "\n",
    "\n",
    "@attr.s(slots=True)\n",
    "class DWI:\n",
    "    \"\"\"Data representation structure for dMRI data.\"\"\"\n",
    "\n",
    "    dataobj = attr.ib(default=None, repr=_data_repr)\n",
    "    \"\"\"A numpy ndarray object for the data array, without *b=0* volumes.\"\"\"\n",
    "    brainmask = attr.ib(default=None, repr=_data_repr)\n",
    "    \"\"\"A boolean ndarray object containing a corresponding brainmask.\"\"\"\n",
    "    bzero = attr.ib(default=None, repr=_data_repr)\n",
    "    \"\"\"A *b=0* reference map, preferably obtained by some smart averaging.\"\"\"\n",
    "    gradients = attr.ib(default=None, repr=_data_repr)\n",
    "    \"\"\"A 2D numpy array of the gradient table in RAS+B format.\"\"\"\n",
    "    em_affines = attr.ib(default=None)\n",
    "    \"\"\"\n",
    "    List of :obj:`nitransforms.linear.Affine` objects that bring\n",
    "    DWIs (i.e., no b=0) into alignment.\n",
    "    \"\"\"\n",
    "\n",
    "    def __len__(self):\n",
    "        \"\"\"Obtain the number of high-*b* orientations.\"\"\"\n",
    "        return self.gradients.shape[-1]"
   ]
  },
  {
   "cell_type": "markdown",
   "id": "522af7c1",
   "metadata": {},
   "source": [
    "This code implements several *attributes* as well as a *behavior* - the `__len__` *method*.\n",
    "The `__len__` method is special in Python, as it will be executed when we call the built-in function `len()` on our object.\n",
    "\n",
    "Let's test out the `DWI` data structure with some *simulated* data:"
   ]
  },
  {
   "cell_type": "code",
   "execution_count": null,
   "id": "ad8c9add",
   "metadata": {},
   "outputs": [],
   "source": [
    "# NumPy is a fundamental Python library for working with arrays\n",
    "import numpy as np\n",
    "\n",
    "# create a new DWI object, with only gradient information that is random\n",
    "dmri_dataset = DWI(gradients=np.random.normal(size=(4, 64)))\n",
    "\n",
    "# call Python's built-in len() function\n",
    "print(len(dmri_dataset))"
   ]
  },
  {
   "cell_type": "markdown",
   "id": "130ddd11",
   "metadata": {},
   "source": [
    "The output of this `print()` statement is telling us that this (simulated) dataset has 64 diffusion-weighted samples.\n",
    "\n",
    "## Using the new data representation object\n",
    "\n",
    "The code shown above was just a snippet of the `DWI` class. For simplicity, we will be using the full implementation of this class from our [`nifreeze` package](https://github.com/nipreps/nifreeze/blob/main/src/nifreeze/data/dmri.py)\n",
    "Under the `data/` folder of this book's distribution, we have stored a sample DWI dataset with filename `dwi.h5`.\n",
    "Please note that the file has been minimized by zeroing all but two diffusion-weighted orientation maps.\n",
    "\n",
    "Let's get some insights from it:"
   ]
  },
  {
   "cell_type": "code",
   "execution_count": null,
   "id": "ce753a17",
   "metadata": {},
   "outputs": [],
   "source": [
    "# import the class from the library\n",
    "from nifreeze.data.dmri import DWI\n",
    "\n",
    "# load the sample file\n",
    "dmri_dataset = DWI.from_filename(\"../../data/dwi.h5\")\n",
    "print(len(dmri_dataset))"
   ]
  },
  {
   "cell_type": "markdown",
   "id": "af366c94",
   "metadata": {},
   "source": [
    "In this case, the dataset is reporting to have 102 diffusion-weighted samples.\n",
    "\n",
    "Python will automatically generate a summary of this object if we just type the name of our new object.\n",
    "This pretty-printing of the object informs us about the data and metadata that, together, compose this particular DWI dataset:"
   ]
  },
  {
   "cell_type": "code",
   "execution_count": null,
   "id": "5ca082ee",
   "metadata": {},
   "outputs": [],
   "source": [
    "dmri_dataset"
   ]
  },
  {
   "cell_type": "markdown",
   "id": "b6b803f6",
   "metadata": {},
   "source": [
    "Perhaps, the most interesting aspect of our DWI data structure is that it allows indexed access.\n",
    "That way, we can select data, affine (if initialized), and gradient orientation (b-vector, b-value), for any of the orientations in the data structure:"
   ]
  },
  {
   "cell_type": "code",
   "execution_count": null,
   "id": "dc56d075",
   "metadata": {},
   "outputs": [],
   "source": [
    "data, xfm, gradient = dmri_dataset[10]\n",
    "\n",
    "print(f\"shape={data.shape}, gradient={gradient}\")"
   ]
  },
  {
   "cell_type": "markdown",
   "id": "2f975182",
   "metadata": {},
   "source": [
    "## Visualizing the data\n",
    "\n",
    "````{admonition} Exercise\n",
    "Let's start by examining the data.\n",
    "We can generate mosaics of DWI data by using the sister tool *NiReports*:\n",
    "\n",
    "```{hint}\n",
    "We will need to import `plot_dwi` from *NiReports* first.\n",
    "```\n",
    "\n",
    "````\n",
    "\n",
    "**Solution**"
   ]
  },
  {
   "cell_type": "code",
   "execution_count": null,
   "id": "e9756cfc",
   "metadata": {
    "tags": [
     "hide-cell"
    ]
   },
   "outputs": [],
   "source": [
    "from nireports.reportlets.modality.dwi import plot_dwi\n",
    "\n",
    "plot_dwi(dmri_dataset.bzero, affine=dmri_dataset.affine);"
   ]
  },
  {
   "cell_type": "markdown",
   "id": "38729846",
   "metadata": {},
   "source": [
    "When calling `plot_dwi()`, we will be required a 3D data object, and optionally, an `affine` orientation matrix and a `gradient` or b-vector.\n",
    "We can access the *b=0* reference of the dataset with `dmri_dataset.bzero`.\n",
    "This *b=0* reference is a map of the signal measured ***without gradient sensitization***, or in other words, when we are not measuring diffusion in any direction.\n",
    "The *b=0* map can be used by diffusion modeling as the reference to quantify the signal drop at every voxel and given a particular orientation gradient.\n",
    "\n",
    "We can also get some insight into how a particular diffusion-weighted orientation looks like by selecting them with the argument `index`.\n",
    "\n",
    "```{admonition} Exercise\n",
    "Try calling `plot_dwi` with an index of 10 or 100.\n",
    "```\n",
    "\n",
    "**Solution**"
   ]
  },
  {
   "cell_type": "code",
   "execution_count": null,
   "id": "ce346932",
   "metadata": {
    "tags": [
     "hide-cell"
    ]
   },
   "outputs": [],
   "source": [
    "data, _, bvec = dmri_dataset[10]\n",
    "plot_dwi(data, affine=dmri_dataset.affine, gradient=bvec, vmax=5000);"
   ]
  },
  {
   "cell_type": "code",
   "execution_count": null,
   "id": "07ce2186",
   "metadata": {
    "tags": [
     "hide-cell"
    ]
   },
   "outputs": [],
   "source": [
    "data, _, bvec = dmri_dataset[100]\n",
    "plot_dwi(data, affine=dmri_dataset.affine, gradient=bvec, vmax=5000);"
   ]
  },
  {
   "cell_type": "markdown",
   "id": "d34906ad",
   "metadata": {},
   "source": [
    "Diffusion that exhibits directionality in the same direction as the gradient results in a loss of signal.\n",
    "As we can see, ***diffusion-weighted*** images consistently drop almost all signal in voxels filled with cerebrospinal fluid because there, water diffusion is free (isotropic) regardless of the direction that is being measured.\n",
    "\n",
    "We can also see that the images at indexes 10 and 100 have different gradient strength (\"*b-value*\").\n",
    "The higher the magnitude of the gradient, the more diffusion that is allowed to occur, indicated by the overall decrease in signal intensity.\n",
    "Stronger gradients yield diffusion maps with substantially lower SNR (signal-to-noise ratio), as well as larger distortions derived from the so-called \"*Eddy-currents*\".\n",
    "\n",
    "## Visualizing the gradient information\n",
    "\n",
    "Our `DWI` object stores the gradient information in the `gradients` attribute.\n",
    "\n",
    "```{admonition} Exercise\n",
    "Let's see the shape of the gradient information.\n",
    "```\n",
    "\n",
    "**Solution**"
   ]
  },
  {
   "cell_type": "code",
   "execution_count": null,
   "id": "833a8fc8",
   "metadata": {
    "tags": [
     "hide-cell"
    ]
   },
   "outputs": [],
   "source": [
    "dmri_dataset.gradients.shape"
   ]
  },
  {
   "cell_type": "markdown",
   "id": "4cef8f79",
   "metadata": {},
   "source": [
    "We get a $4\\times102$ -- three spatial coordinates ($b_x$, $b_y$, $b_z$) of the unit-norm \"*b-vector*\", plus the gradient sensitization magnitude (the \"*b-value*\"), with a total of 102 different orientations for the case at hand.\n",
    "\n",
    "```{admonition} Exercise\n",
    "Try printing the gradient information to see what it contains.\n",
    "Remember to transpose (`.T`) the array.\n",
    "```\n",
    "\n",
    "**Solution**"
   ]
  },
  {
   "cell_type": "code",
   "execution_count": null,
   "id": "7cd4b77a",
   "metadata": {
    "tags": [
     "hide-cell"
    ]
   },
   "outputs": [],
   "source": [
    "print(dmri_dataset.gradients.T)"
   ]
  },
  {
   "cell_type": "markdown",
   "id": "1f4f4a35",
   "metadata": {},
   "source": [
    "Later, we'll refer to this array as the gradient table.\n",
    "\n",
    "It consists of one row per diffusion-weighted image, with each row consisting of 4 values corresponding to [ R A S+ b ].\n",
    "\n",
    "[ R A S+ ] are the components of the **gradient direction**.\n",
    "Note that the directions have been re-oriented with respect to *world space coordinates*.\n",
    "For more information on this, refer to {doc}`the Affine section in The extra mile <../extra/nifti>`.\n",
    "\n",
    "The last column, b, reflects the **timing and strength of the gradients** in units of s/mm².\n",
    "\n",
    "To get a better sense of which gradient directions were sampled, let's plot them!"
   ]
  },
  {
   "cell_type": "code",
   "execution_count": null,
   "id": "d43ed401",
   "metadata": {},
   "outputs": [],
   "source": [
    "from nireports.reportlets.modality.dwi import plot_gradients\n",
    "\n",
    "plot_gradients(dmri_dataset.gradients.T);\n"
   ]
  },
  {
   "cell_type": "markdown",
   "id": "bd8d8aa7",
   "metadata": {},
   "source": [
    "We've projected all of the gradient directions onto the surface of a sphere, with each unique gradient strength colour-coded.\n",
    "Darkest hues correspond to the lowest *b*-values and brighter to the highest.\n",
    "\n",
    "## Next steps: diffusion modeling\n",
    "\n",
    "By modeling the diffusion signal, the acquired images can provide measurements which are related to the microscopic changes and estimate white matter trajectories."
   ]
  }
 ],
 "metadata": {
  "jupytext": {
   "default_lexer": "python"
  },
  "kernelspec": {
   "display_name": "Python 3",
   "language": "python",
   "name": "python3"
  }
 },
 "nbformat": 4,
 "nbformat_minor": 5
}
