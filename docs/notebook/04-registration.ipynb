{
 "cells": [
  {
   "cell_type": "markdown",
   "id": "9e409f46",
   "metadata": {},
   "source": [
    "# Image registration (spatial alignment)"
   ]
  },
  {
   "cell_type": "code",
   "execution_count": null,
   "id": "ae720f95",
   "metadata": {
    "tags": [
     "remove-cell"
    ]
   },
   "outputs": [],
   "source": [
    "import sys\n",
    "import warnings\n",
    "from IPython.display import HTML\n",
    "from pathlib import Path\n",
    "\n",
    "import nibabel as nb\n",
    "import numpy as np\n",
    "\n",
    "from nifreeze.data.filtering import advanced_clip\n",
    "from nireports.reportlets.modality.dwi import plot_dwi\n",
    "\n",
    "repo_root = next(\n",
    "    (\n",
    "        directory\n",
    "        for directory in (Path.cwd().resolve(), *Path.cwd().resolve().parents)\n",
    "        if (directory / \"pixi.toml\").exists() or (directory / \".git\").exists()\n",
    "    ),\n",
    "    Path.cwd().resolve(),\n",
    ")\n",
    "if str(repo_root) not in sys.path:\n",
    "    sys.path.insert(0, str(repo_root))\n",
    "\n",
    "from tutorial_data import load_tutorial_dmri_dataset\n",
    "\n",
    "warnings.filterwarnings(\"ignore\")\n",
    "\n",
    "DATA_PATH = load_tutorial_dmri_dataset()\n",
    "\n",
    "\n",
    "def _to_nifti(\n",
    "    data, affine, filename, clip=True\n",
    "):\n",
    "    data = np.squeeze(data)\n",
    "    if clip:\n",
    "        data = advanced_clip(data)\n",
    "    nb.Nifti1Image(\n",
    "        data,\n",
    "        affine,\n",
    "        None,\n",
    "    ).to_filename(filename)"
   ]
  },
  {
   "cell_type": "markdown",
   "id": "84243294",
   "metadata": {},
   "source": [
    "At this point of the tutorial we have covered two of the three initial requirements:\n",
    "\n",
    "* we have a powerful data structure to access our dMRI dataset with agility, and\n",
    "* we have a reliable (thanks to DIPY!) model factory to generate *motion-less* references.\n",
    "\n",
    "Therefore, we are only one step away from our goal - aligning any given DW map with the *motion-less* reference.\n",
    "The estimation of the ***spatial transform*** that brings two maps into alignment is called ***image registration***.\n",
    "\n",
    "**Image registration** is therefore the process through which we bring the structural features of two images into alignment.\n",
    "This means that, brain sulci and gyri, the ventricles, subcortical structures, etc. are located exactly at the same place in the two images.\n",
    "That allows, for instance, for **image fusion**, and hence screening both images together (for example, applying some transparency to the one on top) should not give us the perception that they *are not aligned*.\n",
    "\n",
    "## ANTs - Advanced Normalization ToolS\n",
    "\n",
    "The [ANTs toolbox](http://stnava.github.io/ANTs/) is widely recognized as a powerful image registration (and *normalization*, which is registration to some standard space) framework.\n",
    "\n",
    "The output of an image registration process is the *estimated transform* that brings the information in the two images into alignment.\n",
    "In our case, the head-motion is a rigid-body displacement of the head.\n",
    "Therefore, a very simple (*linear*) model --an affine $4\\times 4$ matrix-- can be used to formalize the *estimated transforms*.\n",
    "\n",
    "Only very recently, [ANTs offers a Python interface](https://doi.org/10.1101/2020.10.19.20215392) to run their tools.\n",
    "For this reason, we will use the very much consolidated [*Nipype* wrapping of the ANTs' command-line interface](https://nipype.readthedocs.io/en/latest/api/generated/nipype.interfaces.ants.html#registration).\n",
    "The code is *almost* as simple as follows:\n",
    "\n",
    "```python\n",
    "from nipype.interfaces.ants import Registration\n",
    "\n",
    "registration_framework = Registration(\n",
    "    fixed_image=\"reference.nii.gz\",\n",
    "    moving_image=\"left-out-gradient.nii.gz\",\n",
    "    from_file=\"settings-file.json\"\n",
    ")\n",
    "```\n",
    "\n",
    "At the minimum, we need to establish our registration framework using the *fixed* (our synthetic, motion-less reference) and the *moving* (the left-out gradient) images.\n",
    "We can *easily* configure registration by creating a `settings-file.json` that may look like the following:\n",
    "\n",
    "```JSON\n",
    "{\n",
    "  \"collapse_output_transforms\": true,\n",
    "  \"convergence_threshold\": [ 1E-5, 1E-6 ],\n",
    "  \"convergence_window_size\": [ 5, 2 ],\n",
    "  \"dimension\": 3,\n",
    "  \"initialize_transforms_per_stage\": false,\n",
    "  \"interpolation\": \"BSpline\",\n",
    "  \"metric\": [ \"Mattes\", \"Mattes\" ],\n",
    "  \"metric_weight\": [ 1.0, 1.0 ],\n",
    "  \"number_of_iterations\": [\n",
    "    [ 100, 50, 0 ],\n",
    "    [ 10 ]\n",
    "  ],\n",
    "  \"radius_or_number_of_bins\": [ 32, 32 ],\n",
    "  \"sampling_percentage\": [ 0.05, 0.1 ],\n",
    "  \"sampling_strategy\": [ \"Regular\", \"Random\" ],\n",
    "  \"shrink_factors\": [\n",
    "    [ 2, 2, 1 ],\n",
    "    [ 1 ]\n",
    "  ],\n",
    "  \"sigma_units\": [ \"vox\", \"vox\" ],\n",
    "  \"smoothing_sigmas\": [\n",
    "    [ 4.0, 2.0, 0.0 ],\n",
    "    [ 0.0 ]\n",
    "  ],\n",
    "  \"transform_parameters\": [\n",
    "    [ 0.01 ],\n",
    "    [ 0.01 ]\n",
    "  ],\n",
    "  \"transforms\": [ \"Rigid\", \"Rigid\" ],\n",
    "  \"use_estimate_learning_rate_once\": [ false, true ],\n",
    "  \"use_histogram_matching\": [ true, true ],\n",
    "  \"verbose\": true,\n",
    "  \"winsorize_lower_quantile\": 0.0001,\n",
    "  \"winsorize_upper_quantile\": 0.9998,\n",
    "  \"write_composite_transform\": false\n",
    "}\n",
    "```\n",
    "\n",
    "Yes, configuring image registration is definitely not *straightforward*.\n",
    "The most relevant piece of settings to highlight is the `\"transforms\"` key, where we can observe we will be using a `\"Rigid\"` transform model.\n",
    "\n",
    "## Example registration\n",
    "\n",
    "It is beyond the scope of this tutorial to understand ANTs and/or image registration altogether, but let's have a look at how registration is integrated.\n",
    "First, we'll need to generate one target gradient prediction following all the steps learned previously.\n",
    "For this example, we have selected the 8<sup>th</sup> DW map (`index=7`) because it contains a sudden motion spike, resembling a nodding movement."
   ]
  },
  {
   "cell_type": "code",
   "execution_count": null,
   "id": "5bae00db",
   "metadata": {},
   "outputs": [],
   "source": [
    "from nifreeze.data.dmri import DWI\n",
    "\n",
    "dmri_dataset = DWI.from_filename(DATA_PATH)"
   ]
  },
  {
   "cell_type": "code",
   "execution_count": null,
   "id": "17146d51",
   "metadata": {},
   "outputs": [],
   "source": [
    "from nifreeze.model import ModelFactory\n",
    "\n",
    "model = ModelFactory.init(\n",
    "    dataset=dmri_dataset,\n",
    "    model=\"DTI\",\n",
    ")\n",
    "predicted = model.fit_predict(7)"
   ]
  },
  {
   "cell_type": "markdown",
   "id": "e2f60a6c",
   "metadata": {},
   "source": [
    "Since we are using the command-line interface of ANTs, the software must be installed in the computer and the input data is provided via files in the filesystem.\n",
    "Let's write out two NIfTI files in a temporary folder:"
   ]
  },
  {
   "cell_type": "code",
   "execution_count": null,
   "id": "561db825",
   "metadata": {},
   "outputs": [],
   "source": [
    "from pathlib import Path\n",
    "from tempfile import mkdtemp\n",
    "\n",
    "tempdir = Path(mkdtemp())\n",
    "\n",
    "# The fixed image is our prediction\n",
    "fixed_path = tempdir / \"fixed.nii.gz\"\n",
    "_to_nifti(predicted, dmri_dataset.affine, fixed_path)\n",
    "\n",
    "# The moving image is the left-out DW map\n",
    "moving_path = tempdir / \"moving.nii.gz\"\n",
    "_to_nifti(dmri_dataset[7][0], dmri_dataset.affine, moving_path)"
   ]
  },
  {
   "cell_type": "markdown",
   "id": "0dded721",
   "metadata": {},
   "source": [
    "We can now visualize our reference (the prediction) and the actual DW map.\n",
    "Please notice the subtle *nodding* of the head, perhaps more apparent when looking at the corpus callosum in the sagittal views:"
   ]
  },
  {
   "cell_type": "code",
   "execution_count": null,
   "id": "8943d0ba",
   "metadata": {
    "tags": [
     "remove-output"
    ]
   },
   "outputs": [],
   "source": [
    "from nireports.reportlets.notebook import display\n",
    "\n",
    "display(\n",
    "    fixed_path,\n",
    "    moving_path,\n",
    "    fixed_label=\"Predicted\",\n",
    "    moving_label=\"Left-out gradient\",\n",
    ");"
   ]
  },
  {
   "cell_type": "code",
   "execution_count": null,
   "id": "b40dd3e8",
   "metadata": {
    "tags": [
     "remove-input"
    ]
   },
   "outputs": [],
   "source": [
    "HTML(\"\"\"<object alt=\"../images/registration_7_0.svg\" type=\"image/svg+xml\" data=\"../images/registration_7_0.svg\"></object>\"\"\")"
   ]
  },
  {
   "cell_type": "markdown",
   "id": "85735c90",
   "metadata": {},
   "source": [
    "Let's configure ANTs via NiPype:"
   ]
  },
  {
   "cell_type": "code",
   "execution_count": null,
   "id": "e3eda443",
   "metadata": {},
   "outputs": [],
   "source": [
    "from os import cpu_count\n",
    "from pkg_resources import resource_filename as pkg_fn\n",
    "from nipype.interfaces.ants.registration import Registration\n",
    "\n",
    "registration = Registration(\n",
    "    terminal_output=\"file\",\n",
    "    from_file=pkg_fn(\n",
    "        \"nifreeze.registration\",\n",
    "        f\"config/dwi-to-dwi_level1.json\",\n",
    "    ),\n",
    "    fixed_image=str(fixed_path.absolute()),\n",
    "    moving_image=str(moving_path.absolute()),\n",
    ")\n",
    "registration.inputs.output_warped_image = True\n",
    "registration.inputs.num_threads = cpu_count()"
   ]
  },
  {
   "cell_type": "markdown",
   "id": "df398651",
   "metadata": {},
   "source": [
    "which will run the following command-line:"
   ]
  },
  {
   "cell_type": "code",
   "execution_count": null,
   "id": "6b0868ad",
   "metadata": {},
   "outputs": [],
   "source": [
    "registration.cmdline"
   ]
  },
  {
   "cell_type": "markdown",
   "id": "383cbb33",
   "metadata": {},
   "source": [
    "Nipype interfaces can be submitted for execution with the `run()` method:"
   ]
  },
  {
   "cell_type": "code",
   "execution_count": null,
   "id": "94a8b4e1",
   "metadata": {},
   "outputs": [],
   "source": [
    "result = registration.run(cwd=str(tempdir.absolute()))"
   ]
  },
  {
   "cell_type": "markdown",
   "id": "2683a6ad",
   "metadata": {},
   "source": [
    "If everything worked out, we can now retrieve the aligned file with the output `result.outputs.warped_image`.\n",
    "We can now visualize how close (or far) the two images are:"
   ]
  },
  {
   "cell_type": "code",
   "execution_count": null,
   "id": "f887d290",
   "metadata": {
    "tags": [
     "remove-output"
    ]
   },
   "outputs": [],
   "source": [
    "display(\n",
    "    fixed_path,\n",
    "    result.outputs.warped_image,\n",
    "    fixed_label=\"Predicted\",\n",
    "    moving_label=\"Aligned\",\n",
    ");"
   ]
  },
  {
   "cell_type": "code",
   "execution_count": null,
   "id": "f39909c4",
   "metadata": {
    "tags": [
     "remove-input"
    ]
   },
   "outputs": [],
   "source": [
    "HTML(\"\"\"<object alt=\"../images/registration_15_0.svg\" type=\"image/svg+xml\" data=\"../images/registration_15_0.svg\"></object>\"\"\")"
   ]
  },
  {
   "cell_type": "markdown",
   "id": "cef20aa2",
   "metadata": {},
   "source": [
    "## Resampling an image\n",
    "\n",
    "Once we have estimated what is the *transform* that brings two images into alignment, we can *bring* the data in the *moving* image and *move this image* into the *reference*'s grid through *resampling*.\n",
    "\n",
    "The process works as follows:\n",
    "\n",
    "![nitransforms](https://raw.githubusercontent.com/poldracklab/nitransforms/master/docs/_static/figure1-joss.png)\n",
    "\n",
    "[*NiTransforms*](https://doi.org/10.1109/ISBI45749.2020.9098466) ([open-access pre-print here](https://doi.org/10.31219/osf.io/8aq7b)) is an ongoing project to bring a compatibility layer into *NiBabel* between the many transform file formats generated by neuroimaging packages.\n",
    "We will be using *NiTransforms* to *apply* these transforms we estimate with ANTs -- effectively *resampling* moving images into their reference's grid.\n",
    "\n",
    "To read a transform produced by ANTs with *NiTransforms*, we use the following piece of code:"
   ]
  },
  {
   "cell_type": "code",
   "execution_count": null,
   "id": "43f2284f",
   "metadata": {},
   "outputs": [],
   "source": [
    "import nitransforms as nt\n",
    "\n",
    "itk_xform = nt.io.itk.ITKLinearTransform.from_filename(result.outputs.forward_transforms[0])\n",
    "matrix = itk_xform.to_ras(reference=fixed_path, moving=moving_path)\n",
    "matrix"
   ]
  },
  {
   "cell_type": "markdown",
   "id": "2ae99ed2",
   "metadata": {},
   "source": [
    "Resampling an image requires two pieces of information: the *reference* image (which provides the new grid where we want to have the data) and the *moving* image which contains the actual data we are interested in:"
   ]
  },
  {
   "cell_type": "code",
   "execution_count": null,
   "id": "46b7dc25",
   "metadata": {
    "tags": [
     "remove-output"
    ]
   },
   "outputs": [],
   "source": [
    "xfm = nt.linear.Affine(matrix)\n",
    "xfm.reference = fixed_path\n",
    "resampled = xfm.apply(moving_path)\n",
    "resampled.to_filename(tempdir / \"resampled-nitransforms.nii.gz\")\n",
    "\n",
    "display(\n",
    "    fixed_path,\n",
    "    tempdir / \"resampled-nitransforms.nii.gz\",\n",
    "    fixed_label=\"Predicted\",\n",
    "    moving_label=\"Aligned (nitransforms)\",\n",
    ");"
   ]
  },
  {
   "cell_type": "code",
   "execution_count": null,
   "id": "4e5cf12d",
   "metadata": {
    "tags": [
     "remove-input"
    ]
   },
   "outputs": [],
   "source": [
    "HTML(\"\"\"<object alt=\"../images/registration_19_0.svg\" type=\"image/svg+xml\" data=\"../images/registration_19_0.svg\"></object>\"\"\")"
   ]
  },
  {
   "cell_type": "markdown",
   "id": "876cd807",
   "metadata": {},
   "source": [
    "**Exercise**\n",
    "\n",
    "Use the `display()` function to visualize the image aligned as generated by ANTs vs. that generated by *NiTransforms* -- they should be aligned!.\n",
    "\n",
    "**Solution**"
   ]
  },
  {
   "cell_type": "code",
   "execution_count": null,
   "id": "8d412f8a",
   "metadata": {
    "tags": [
     "hide-cell",
     "remove-output"
    ]
   },
   "outputs": [],
   "source": [
    "display(\n",
    "    result.outputs.warped_image,\n",
    "    tempdir / \"resampled-nitransforms.nii.gz\",\n",
    "    fixed_label=\"Aligned (ANTs)\",\n",
    "    moving_label=\"Aligned (nitransforms)\",\n",
    ");"
   ]
  },
  {
   "cell_type": "code",
   "execution_count": null,
   "id": "482baec0",
   "metadata": {
    "tags": [
     "hide-cell",
     "remove-input"
    ]
   },
   "outputs": [],
   "source": [
    "HTML(\"\"\"<object alt=\"../images/registration_21_0.svg\" type=\"image/svg+xml\" data=\"../images/registration_21_0.svg\"></object>\"\"\")"
   ]
  }
 ],
 "metadata": {
  "jupytext": {
   "default_lexer": "ipython3"
  },
  "kernelspec": {
   "display_name": "Python 3 (ipykernel)",
   "language": "python",
   "name": "python3"
  }
 },
 "nbformat": 4,
 "nbformat_minor": 5
}
